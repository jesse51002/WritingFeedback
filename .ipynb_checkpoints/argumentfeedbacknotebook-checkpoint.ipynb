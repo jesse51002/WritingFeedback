{
 "cells": [
  {
   "cell_type": "markdown",
   "metadata": {
    "papermill": {
     "duration": 0.009407,
     "end_time": "2022-08-08T09:32:23.300039",
     "exception": false,
     "start_time": "2022-08-08T09:32:23.290632",
     "status": "completed"
    },
    "tags": []
   },
   "source": [
    "Import needed libarires"
   ]
  },
  {
   "cell_type": "code",
   "execution_count": 1,
   "metadata": {
    "execution": {
     "iopub.execute_input": "2022-08-08T09:32:23.317470Z",
     "iopub.status.busy": "2022-08-08T09:32:23.316526Z",
     "iopub.status.idle": "2022-08-08T09:32:25.472625Z",
     "shell.execute_reply": "2022-08-08T09:32:25.471575Z"
    },
    "papermill": {
     "duration": 2.167838,
     "end_time": "2022-08-08T09:32:25.475481",
     "exception": false,
     "start_time": "2022-08-08T09:32:23.307643",
     "status": "completed"
    },
    "tags": []
   },
   "outputs": [],
   "source": [
    "import pandas as pd\n",
    "from nltk.corpus import stopwords\n",
    "from nltk.stem import PorterStemmer\n",
    "import re\n",
    "\n",
    "import matplotlib.pyplot as plt\n",
    "import seaborn as sns\n",
    "import numpy as np\n",
    "\n",
    "from sklearn.feature_extraction.text import CountVectorizer\n",
    "from sklearn.feature_extraction.text import TfidfVectorizer\n",
    "from sklearn.model_selection import train_test_split\n",
    "from sklearn.preprocessing import OneHotEncoder\n",
    "\n",
    "from imblearn.over_sampling import RandomOverSampler\n",
    "from imblearn.under_sampling import RandomUnderSampler\n",
    "from imblearn.combine import SMOTETomek\n",
    "from imblearn.under_sampling import TomekLinks\n",
    "\n",
    "import gc"
   ]
  },
  {
   "cell_type": "markdown",
   "metadata": {
    "papermill": {
     "duration": 0.007134,
     "end_time": "2022-08-08T09:32:25.490230",
     "exception": false,
     "start_time": "2022-08-08T09:32:25.483096",
     "status": "completed"
    },
    "tags": []
   },
   "source": [
    "Import Dataset"
   ]
  },
  {
   "cell_type": "code",
   "execution_count": 2,
   "metadata": {
    "execution": {
     "iopub.execute_input": "2022-08-08T09:32:25.508627Z",
     "iopub.status.busy": "2022-08-08T09:32:25.508210Z",
     "iopub.status.idle": "2022-08-08T09:32:25.821439Z",
     "shell.execute_reply": "2022-08-08T09:32:25.820409Z"
    },
    "papermill": {
     "duration": 0.326065,
     "end_time": "2022-08-08T09:32:25.823994",
     "exception": false,
     "start_time": "2022-08-08T09:32:25.497929",
     "status": "completed"
    },
    "tags": []
   },
   "outputs": [],
   "source": [
    "train = pd.read_csv(\"../input/feedback-prize-effectiveness/train.csv\")\n",
    "\n",
    "submission = pd.read_csv(\"../input/feedback-prize-effectiveness/sample_submission.csv\")"
   ]
  },
  {
   "cell_type": "markdown",
   "metadata": {
    "papermill": {
     "duration": 0.007207,
     "end_time": "2022-08-08T09:32:25.838881",
     "exception": false,
     "start_time": "2022-08-08T09:32:25.831674",
     "status": "completed"
    },
    "tags": []
   },
   "source": [
    "Analyze Dataset"
   ]
  },
  {
   "cell_type": "code",
   "execution_count": 3,
   "metadata": {
    "execution": {
     "iopub.execute_input": "2022-08-08T09:32:25.856222Z",
     "iopub.status.busy": "2022-08-08T09:32:25.855789Z",
     "iopub.status.idle": "2022-08-08T09:32:26.083416Z",
     "shell.execute_reply": "2022-08-08T09:32:26.082102Z"
    },
    "papermill": {
     "duration": 0.240045,
     "end_time": "2022-08-08T09:32:26.086794",
     "exception": false,
     "start_time": "2022-08-08T09:32:25.846749",
     "status": "completed"
    },
    "tags": []
   },
   "outputs": [
    {
     "name": "stdout",
     "output_type": "stream",
     "text": [
      "Columns:  ['discourse_id', 'essay_id', 'discourse_text', 'discourse_type', 'discourse_effectiveness']\n",
      "Null values:  0\n",
      "Duplicates in text row:  74\n"
     ]
    },
    {
     "data": {
      "image/png": "[encoded data removed]",
      "text/plain": [
       "<Figure size 432x288 with 1 Axes>"
      ]
     },
     "metadata": {},
     "output_type": "display_data"
    }
   ],
   "source": [
    "print(\"Columns: \", list(train.columns))\n",
    "\n",
    "#Deletes uneeded rows\n",
    "train.drop(['discourse_id', 'essay_id'] , axis=1, inplace=True)\n",
    "\n",
    "print(\"Null values: \", train.isnull().values.sum())\n",
    "print(\"Duplicates in text row: \", train[\"discourse_text\"].duplicated().values.sum())\n",
    "\n",
    "train['discourse_effectiveness'].value_counts().plot.pie(autopct='%.2f')\n",
    "\n",
    "# ordinally encodes effectivness\n",
    "train['discourse_effectiveness'] = train[\"discourse_effectiveness\"].replace(\n",
    "            {\"Ineffective\": 0, \"Adequate\": 1, \"Effective\": 2}\n",
    "        )"
   ]
  },
  {
   "cell_type": "markdown",
   "metadata": {
    "papermill": {
     "duration": 0.012574,
     "end_time": "2022-08-08T09:32:26.111975",
     "exception": false,
     "start_time": "2022-08-08T09:32:26.099401",
     "status": "completed"
    },
    "tags": []
   },
   "source": [
    "Deals with Duplicates (Duplicates means multiple opinions were given so taking the average)"
   ]
  },
  {
   "cell_type": "code",
   "execution_count": 4,
   "metadata": {
    "execution": {
     "iopub.execute_input": "2022-08-08T09:32:26.139010Z",
     "iopub.status.busy": "2022-08-08T09:32:26.138455Z",
     "iopub.status.idle": "2022-08-08T09:32:26.148367Z",
     "shell.execute_reply": "2022-08-08T09:32:26.147157Z"
    },
    "papermill": {
     "duration": 0.02712,
     "end_time": "2022-08-08T09:32:26.151674",
     "exception": false,
     "start_time": "2022-08-08T09:32:26.124554",
     "status": "completed"
    },
    "tags": []
   },
   "outputs": [
    {
     "data": {
      "text/plain": [
       "'\\n#creates a df with the average of the duplicates\\nduplicateAverage = train.loc[train[\"discourse_text\"].duplicated(keep=False)].groupby([\\'discourse_text\\']).mean()\\nprint(duplicateAverage.head())\\n\\n# Drops all the duplicates except one which will be used as the replacement replaced\\ntrain = train.loc[~train[\"discourse_text\"].duplicated(keep=\\'first\\')]\\n\\nfor i, x in train.iterrows():\\n    text = x.discourse_text\\n    \\n    if text in duplicateAverage.index:\\n        train.at[i, \\'discourse_effectiveness\\'] = duplicateAverage.loc[text]\\n        \\n\\nprint(\"\\nDuplicates in text row: \", train[\"discourse_text\"].duplicated().values.sum())\\n\\n'"
      ]
     },
     "execution_count": 4,
     "metadata": {},
     "output_type": "execute_result"
    }
   ],
   "source": [
    "#Taking the average value of the duplicates made it hard to make it a classificatoin model\n",
    "#This is beacuse there would be decimal places\n",
    "#So we decided to keep duplicates in the model\n",
    "\n",
    "\"\"\"\n",
    "#creates a df with the average of the duplicates\n",
    "duplicateAverage = train.loc[train[\"discourse_text\"].duplicated(keep=False)].groupby(['discourse_text']).mean()\n",
    "print(duplicateAverage.head())\n",
    "\n",
    "# Drops all the duplicates except one which will be used as the replacement replaced\n",
    "train = train.loc[~train[\"discourse_text\"].duplicated(keep='first')]\n",
    "\n",
    "for i, x in train.iterrows():\n",
    "    text = x.discourse_text\n",
    "    \n",
    "    if text in duplicateAverage.index:\n",
    "        train.at[i, 'discourse_effectiveness'] = duplicateAverage.loc[text]\n",
    "        \n",
    "\n",
    "print(\"\\nDuplicates in text row: \", train[\"discourse_text\"].duplicated().values.sum())\n",
    "\n",
    "\"\"\""
   ]
  },
  {
   "cell_type": "markdown",
   "metadata": {
    "papermill": {
     "duration": 0.007644,
     "end_time": "2022-08-08T09:32:26.168199",
     "exception": false,
     "start_time": "2022-08-08T09:32:26.160555",
     "status": "completed"
    },
    "tags": []
   },
   "source": [
    "Feature Creation"
   ]
  },
  {
   "cell_type": "code",
   "execution_count": 5,
   "metadata": {
    "execution": {
     "iopub.execute_input": "2022-08-08T09:32:26.187212Z",
     "iopub.status.busy": "2022-08-08T09:32:26.186428Z",
     "iopub.status.idle": "2022-08-08T09:32:26.199363Z",
     "shell.execute_reply": "2022-08-08T09:32:26.197575Z"
    },
    "papermill": {
     "duration": 0.025894,
     "end_time": "2022-08-08T09:32:26.202661",
     "exception": false,
     "start_time": "2022-08-08T09:32:26.176767",
     "status": "completed"
    },
    "tags": []
   },
   "outputs": [
    {
     "name": "stdout",
     "output_type": "stream",
     "text": [
      "Created Train Features\n"
     ]
    }
   ],
   "source": [
    "# The extra feature creation made the model make false prediction so we aren't using them\n",
    "def createFeatures(df):\n",
    "    lengthArr = []\n",
    "    wordCountArr = []\n",
    "    sentCountArr = []\n",
    "    upperCasePerc = []\n",
    "    averageSentenceWord = []\n",
    "\n",
    "    for index, row in df.iterrows():\n",
    "        curText = row.discourse_text\n",
    "        # lower case conversion\n",
    "        curText = curText.lower()\n",
    "        # removes all the trailing and leading spaces\n",
    "        curText = curText.strip()\n",
    "        \n",
    "        # Gets the string length\n",
    "        stringLength = len(curText)\n",
    "        lengthArr.append(stringLength)\n",
    "        #Gets the words\n",
    "        words = curText.split()\n",
    "        #Gets the word count\n",
    "        wordCountArr.append(len(words))\n",
    "        #Gets the sentences\n",
    "        sentenceArr = [x for x in re.split(r\"[\\n\\.\\?\\!]+\", curText) if len(x) > 0]\n",
    "        #Gets the sentence count\n",
    "        sentCountArr.append(len(sentenceArr))\n",
    "        #Gets the averge words in a sentence\n",
    "        averageSentenceWord.append(len(words) / len(sentenceArr))\n",
    "        \n",
    "        #Gets capitilization of letters percentage\n",
    "        i = 0\n",
    "        upper_count = 0\n",
    "        for sentence in sentenceArr:\n",
    "            while i < len(sentence):\n",
    "                if sentence[i].isalpha():\n",
    "                    if sentence[i].isupper():\n",
    "                        upper_count = upper_count + 1\n",
    "                    break\n",
    "                i = i + 1\n",
    "                \n",
    "        upperCasePerc.append(upper_count / len(sentenceArr) * 100)\n",
    "            \n",
    "    #df['StringLength'] = lengthArr\n",
    "    df['WordCount'] = wordCountArr\n",
    "    df['SentenceCount'] = sentCountArr \n",
    "    #df['upperCasePerc'] = upperCasePerc \n",
    "    #df['averageSentenceWords'] = averageSentenceWord\n",
    "        \n",
    "#createFeatures(train)\n",
    "print(\"Created Train Features\")\n"
   ]
  },
  {
   "cell_type": "markdown",
   "metadata": {
    "papermill": {
     "duration": 0.008294,
     "end_time": "2022-08-08T09:32:26.219585",
     "exception": false,
     "start_time": "2022-08-08T09:32:26.211291",
     "status": "completed"
    },
    "tags": []
   },
   "source": [
    "Cleans the text"
   ]
  },
  {
   "cell_type": "code",
   "execution_count": 6,
   "metadata": {
    "execution": {
     "iopub.execute_input": "2022-08-08T09:32:26.238206Z",
     "iopub.status.busy": "2022-08-08T09:32:26.237792Z",
     "iopub.status.idle": "2022-08-08T09:32:34.387290Z",
     "shell.execute_reply": "2022-08-08T09:32:34.385723Z"
    },
    "papermill": {
     "duration": 8.161659,
     "end_time": "2022-08-08T09:32:34.389816",
     "exception": false,
     "start_time": "2022-08-08T09:32:26.228157",
     "status": "completed"
    },
    "tags": []
   },
   "outputs": [
    {
     "name": "stdout",
     "output_type": "stream",
     "text": [
      "0        hi im isaac im going to be writing about how t...\n",
      "1        on my perspective i think that the face is a n...\n",
      "2        i think that the face is a natural landform be...\n",
      "3        if life was on mars we would know by now the r...\n",
      "4        people thought that the face was formed by ali...\n",
      "                               ...                        \n",
      "36760    for many people they dont like only asking one...\n",
      "36761    also people have different views and opinions ...\n",
      "36762    advice is something that can impact a persons ...\n",
      "36763    someone can use everything that many people sa...\n",
      "36764    in conclusion asking for an opinion can be ben...\n",
      "Name: discourse_text, Length: 36765, dtype: object\n",
      "\n",
      "Cleaned Train Dataset\n"
     ]
    }
   ],
   "source": [
    "# ########## Clean data\n",
    "def cleanText(df):\n",
    "\n",
    "    stopWords = set(stopwords.words('english'))\n",
    "    stemmer = PorterStemmer()\n",
    "\n",
    "    for index, row in df.iterrows():\n",
    "\n",
    "        curText = row.discourse_text\n",
    "\n",
    "        # lower case conversion\n",
    "        curText = curText.lower()\n",
    "        # removes all the trailing and leading spaces\n",
    "        curText = curText.strip()\n",
    "\n",
    "        #Removes stop words\n",
    "        def remove_stop(x):\n",
    "            return \" \".join([word for word in str(x).split() if word not in stopWords])\n",
    "        \n",
    "        # Keeping stopwords increased accuracy so we are keeping them\n",
    "            #curText = remove_stop(curText)\n",
    "        \n",
    "        # removing all non alphabetic char\n",
    "        curText = re.sub(r'[^a-z ]+', '', curText)\n",
    "        # stems the text\n",
    "        curText = stemmer.stem(curText)\n",
    "        # removing multiple spaces in a row\n",
    "        curText = re.sub(r'(\\s)+', ' ', curText)\n",
    "        # replaces the text\n",
    "        df.at[index, 'discourse_text'] = curText\n",
    "\n",
    "\n",
    "cleanText(train)\n",
    "\n",
    "print(train['discourse_text'])\n",
    "\n",
    "print(\"\\nCleaned Train Dataset\")"
   ]
  },
  {
   "cell_type": "markdown",
   "metadata": {
    "papermill": {
     "duration": 0.007765,
     "end_time": "2022-08-08T09:32:34.405817",
     "exception": false,
     "start_time": "2022-08-08T09:32:34.398052",
     "status": "completed"
    },
    "tags": []
   },
   "source": [
    "Vectorizes the cleaned text"
   ]
  },
  {
   "cell_type": "code",
   "execution_count": 7,
   "metadata": {
    "execution": {
     "iopub.execute_input": "2022-08-08T09:32:34.423812Z",
     "iopub.status.busy": "2022-08-08T09:32:34.423443Z",
     "iopub.status.idle": "2022-08-08T09:32:48.835742Z",
     "shell.execute_reply": "2022-08-08T09:32:48.834569Z"
    },
    "papermill": {
     "duration": 14.42432,
     "end_time": "2022-08-08T09:32:48.838121",
     "exception": false,
     "start_time": "2022-08-08T09:32:34.413801",
     "status": "completed"
    },
    "tags": []
   },
   "outputs": [
    {
     "name": "stdout",
     "output_type": "stream",
     "text": [
      "Feature Counts:  10234 \n",
      "\n",
      "\n"
     ]
    },
    {
     "data": {
      "text/plain": [
       "2513"
      ]
     },
     "execution_count": 7,
     "metadata": {},
     "output_type": "execute_result"
    }
   ],
   "source": [
    "# Vectorized strings\n",
    "countVec = TfidfVectorizer(\n",
    "    min_df=3\n",
    ")\n",
    "\n",
    "# Fits the vectorized with train data\n",
    "train_vectors = countVec.fit_transform(train['discourse_text'])\n",
    "\n",
    "# Gets a list of all the words in the vector\n",
    "vector_features = countVec.get_feature_names_out()\n",
    "#print(\"Vector features: \", vector_features)  # Prints all the words fit intoz the in the vectorizer\n",
    "print(\"Feature Counts: \", len(vector_features), \"\\n\\n\")  # Prints the amount of words in the vectorizer\n",
    "# Converts the vectorized data matrix to array\n",
    "train_vec_arr = train_vectors.toarray()\n",
    "# Puts the vectorized data into the dataframe\n",
    "    #train_vec_dataframe = pd.DataFrame(data=train_vec_arr, columns=vector_features)\n",
    "train = pd.concat([train, pd.DataFrame(data=train_vec_arr, columns=vector_features).reset_index(drop=True)], axis=1)\n",
    "\n",
    "\n",
    "del train_vectors\n",
    "del train_vec_arr\n",
    "gc.collect()"
   ]
  },
  {
   "cell_type": "markdown",
   "metadata": {
    "papermill": {
     "duration": 0.008068,
     "end_time": "2022-08-08T09:32:48.854376",
     "exception": false,
     "start_time": "2022-08-08T09:32:48.846308",
     "status": "completed"
    },
    "tags": []
   },
   "source": [
    "One Hot Encondes the discourse type row"
   ]
  },
  {
   "cell_type": "code",
   "execution_count": 8,
   "metadata": {
    "execution": {
     "iopub.execute_input": "2022-08-08T09:32:48.876748Z",
     "iopub.status.busy": "2022-08-08T09:32:48.875489Z",
     "iopub.status.idle": "2022-08-08T09:32:48.906313Z",
     "shell.execute_reply": "2022-08-08T09:32:48.905437Z"
    },
    "papermill": {
     "duration": 0.0465,
     "end_time": "2022-08-08T09:32:48.909029",
     "exception": false,
     "start_time": "2022-08-08T09:32:48.862529",
     "status": "completed"
    },
    "tags": []
   },
   "outputs": [
    {
     "name": "stdout",
     "output_type": "stream",
     "text": [
      "One hot enconded train dataset\n"
     ]
    }
   ],
   "source": [
    "# One hot encodes discourse type\n",
    "OH_encoder = OneHotEncoder(handle_unknown='ignore', sparse=False)\n",
    "X_categorical_OneHot_train = pd.DataFrame(OH_encoder.fit_transform(train[['discourse_type']]))\n",
    "print(\"One hot enconded train dataset\")"
   ]
  },
  {
   "cell_type": "markdown",
   "metadata": {
    "papermill": {
     "duration": 0.009819,
     "end_time": "2022-08-08T09:32:48.930757",
     "exception": false,
     "start_time": "2022-08-08T09:32:48.920938",
     "status": "completed"
    },
    "tags": []
   },
   "source": [
    "Combines the Dataset"
   ]
  },
  {
   "cell_type": "code",
   "execution_count": 9,
   "metadata": {
    "execution": {
     "iopub.execute_input": "2022-08-08T09:32:48.950077Z",
     "iopub.status.busy": "2022-08-08T09:32:48.949286Z",
     "iopub.status.idle": "2022-08-08T09:32:50.986289Z",
     "shell.execute_reply": "2022-08-08T09:32:50.984910Z"
    },
    "papermill": {
     "duration": 2.04986,
     "end_time": "2022-08-08T09:32:50.989085",
     "exception": false,
     "start_time": "2022-08-08T09:32:48.939225",
     "status": "completed"
    },
    "tags": []
   },
   "outputs": [
    {
     "name": "stdout",
     "output_type": "stream",
     "text": [
      "Fully Combined the Train dataset\n"
     ]
    }
   ],
   "source": [
    "def combineDataFrame(df, restDfs):\n",
    "    # drops the text column as it has been vectorized and type since it's been one hot encoded\n",
    "    df.drop(['discourse_text', 'discourse_type'], inplace=True, axis=1)\n",
    "    #resets index to make concat work\n",
    "    df.reset_index(drop=True, inplace=True)\n",
    "    for curDf in restDfs:\n",
    "        #resets index to make concat work\n",
    "        curDf.reset_index(drop=True, inplace=True)\n",
    "        df = pd.concat([df, curDf], axis=1)\n",
    "    \n",
    "    return df\n",
    "\n",
    "# Gets the Qcombined and fully cleaned model\n",
    "train = combineDataFrame(train, [X_categorical_OneHot_train])\n",
    "print(\"Fully Combined the Train dataset\")"
   ]
  },
  {
   "cell_type": "markdown",
   "metadata": {
    "papermill": {
     "duration": 0.008051,
     "end_time": "2022-08-08T09:32:51.005616",
     "exception": false,
     "start_time": "2022-08-08T09:32:50.997565",
     "status": "completed"
    },
    "tags": []
   },
   "source": [
    "Performs Oversampling on Train dataset"
   ]
  },
  {
   "cell_type": "code",
   "execution_count": 10,
   "metadata": {
    "execution": {
     "iopub.execute_input": "2022-08-08T09:32:51.024519Z",
     "iopub.status.busy": "2022-08-08T09:32:51.024088Z",
     "iopub.status.idle": "2022-08-08T09:33:17.178854Z",
     "shell.execute_reply": "2022-08-08T09:33:17.177579Z"
    },
    "papermill": {
     "duration": 26.168655,
     "end_time": "2022-08-08T09:33:17.183028",
     "exception": false,
     "start_time": "2022-08-08T09:32:51.014373",
     "status": "completed"
    },
    "tags": []
   },
   "outputs": [
    {
     "name": "stderr",
     "output_type": "stream",
     "text": [
      "/opt/conda/lib/python3.7/site-packages/sklearn/utils/validation.py:1692: FutureWarning: Feature names only support names that are all strings. Got feature names with dtypes: ['int', 'str']. An error will be raised in 1.2.\n",
      "  FutureWarning,\n"
     ]
    },
    {
     "name": "stdout",
     "output_type": "stream",
     "text": [
      "Over Sampling on data\n"
     ]
    }
   ],
   "source": [
    "#Gets the y value\n",
    "yFinished = train['discourse_effectiveness']\n",
    "#drops the y value\n",
    "train.drop('discourse_effectiveness', axis=1, inplace=True)\n",
    "\n",
    "# Performs oversampling with a 1-1 ratio\n",
    "\n",
    "#smote = SMOTETomek(tomek=TomekLinks(sampling_strategy='majority'))\n",
    "ros = RandomOverSampler(sampling_strategy='auto',random_state=42)\n",
    "train, yFinished = ros.fit_resample(train, yFinished)\n",
    "print(\"Over Sampling on data\")"
   ]
  },
  {
   "cell_type": "markdown",
   "metadata": {
    "papermill": {
     "duration": 0.008277,
     "end_time": "2022-08-08T09:33:17.201819",
     "exception": false,
     "start_time": "2022-08-08T09:33:17.193542",
     "status": "completed"
    },
    "tags": []
   },
   "source": [
    "Train Test split to make Validation set"
   ]
  },
  {
   "cell_type": "code",
   "execution_count": 11,
   "metadata": {
    "execution": {
     "iopub.execute_input": "2022-08-08T09:33:17.221068Z",
     "iopub.status.busy": "2022-08-08T09:33:17.220267Z",
     "iopub.status.idle": "2022-08-08T09:33:24.996436Z",
     "shell.execute_reply": "2022-08-08T09:33:24.995012Z"
    },
    "papermill": {
     "duration": 7.788858,
     "end_time": "2022-08-08T09:33:24.999044",
     "exception": false,
     "start_time": "2022-08-08T09:33:17.210186",
     "status": "completed"
    },
    "tags": []
   },
   "outputs": [
    {
     "name": "stdout",
     "output_type": "stream",
     "text": [
      "Split into train and validation\n"
     ]
    }
   ],
   "source": [
    "XTrain, XValid, yTrain, yValid = train_test_split(train, yFinished, test_size=0.2, random_state=42) \n",
    "\n",
    "del train\n",
    "gc.collect()\n",
    "\n",
    "print(\"Split into train and validation\")"
   ]
  },
  {
   "cell_type": "markdown",
   "metadata": {
    "papermill": {
     "duration": 0.008581,
     "end_time": "2022-08-08T09:33:25.016469",
     "exception": false,
     "start_time": "2022-08-08T09:33:25.007888",
     "status": "completed"
    },
    "tags": []
   },
   "source": [
    "# ***Models Section***"
   ]
  },
  {
   "cell_type": "markdown",
   "metadata": {
    "papermill": {
     "duration": 0.008777,
     "end_time": "2022-08-08T09:33:25.034282",
     "exception": false,
     "start_time": "2022-08-08T09:33:25.025505",
     "status": "completed"
    },
    "tags": []
   },
   "source": [
    "**Model Imports**"
   ]
  },
  {
   "cell_type": "markdown",
   "metadata": {
    "papermill": {
     "duration": 0.008342,
     "end_time": "2022-08-08T09:33:25.051477",
     "exception": false,
     "start_time": "2022-08-08T09:33:25.043135",
     "status": "completed"
    },
    "tags": []
   },
   "source": []
  },
  {
   "cell_type": "code",
   "execution_count": 12,
   "metadata": {
    "execution": {
     "iopub.execute_input": "2022-08-08T09:33:25.070655Z",
     "iopub.status.busy": "2022-08-08T09:33:25.070247Z",
     "iopub.status.idle": "2022-08-08T09:33:25.230470Z",
     "shell.execute_reply": "2022-08-08T09:33:25.229410Z"
    },
    "papermill": {
     "duration": 0.172849,
     "end_time": "2022-08-08T09:33:25.232933",
     "exception": false,
     "start_time": "2022-08-08T09:33:25.060084",
     "status": "completed"
    },
    "tags": []
   },
   "outputs": [],
   "source": [
    "from sklearn.linear_model import LogisticRegression\n",
    "from sklearn.linear_model import SGDClassifier\n",
    "from sklearn.ensemble import RandomForestClassifier\n",
    "from sklearn.metrics import confusion_matrix\n",
    "from sklearn.metrics import accuracy_score\n",
    "from xgboost import XGBRegressor"
   ]
  },
  {
   "cell_type": "markdown",
   "metadata": {
    "papermill": {
     "duration": 0.008349,
     "end_time": "2022-08-08T09:33:25.249983",
     "exception": false,
     "start_time": "2022-08-08T09:33:25.241634",
     "status": "completed"
    },
    "tags": []
   },
   "source": [
    "Model Selection"
   ]
  },
  {
   "cell_type": "code",
   "execution_count": 13,
   "metadata": {
    "execution": {
     "iopub.execute_input": "2022-08-08T09:33:25.269445Z",
     "iopub.status.busy": "2022-08-08T09:33:25.268493Z",
     "iopub.status.idle": "2022-08-08T09:42:52.527299Z",
     "shell.execute_reply": "2022-08-08T09:42:52.525650Z"
    },
    "papermill": {
     "duration": 567.273473,
     "end_time": "2022-08-08T09:42:52.532091",
     "exception": false,
     "start_time": "2022-08-08T09:33:25.258618",
     "status": "completed"
    },
    "tags": []
   },
   "outputs": [
    {
     "name": "stderr",
     "output_type": "stream",
     "text": [
      "/opt/conda/lib/python3.7/site-packages/sklearn/utils/validation.py:1692: FutureWarning: Feature names only support names that are all strings. Got feature names with dtypes: ['int', 'str']. An error will be raised in 1.2.\n",
      "  FutureWarning,\n",
      "/opt/conda/lib/python3.7/site-packages/sklearn/utils/validation.py:1692: FutureWarning: Feature names only support names that are all strings. Got feature names with dtypes: ['int', 'str']. An error will be raised in 1.2.\n",
      "  FutureWarning,\n"
     ]
    },
    {
     "name": "stdout",
     "output_type": "stream",
     "text": [
      "LogisticReg  Train Accuracy:  0.7340696011441284\n",
      "[[13019  3729   775]\n",
      " [ 2873 10186  2197]\n",
      " [  921  2893 13751]]\n"
     ]
    },
    {
     "name": "stderr",
     "output_type": "stream",
     "text": [
      "/opt/conda/lib/python3.7/site-packages/sklearn/utils/validation.py:1692: FutureWarning: Feature names only support names that are all strings. Got feature names with dtypes: ['int', 'str']. An error will be raised in 1.2.\n",
      "  FutureWarning,\n"
     ]
    },
    {
     "name": "stdout",
     "output_type": "stream",
     "text": [
      "LogisticReg  Valid Accuracy:  0.6734726304917772\n",
      "[[2982 1133  247]\n",
      " [ 921 2184  696]\n",
      " [ 261  852 3311]]\n"
     ]
    }
   ],
   "source": [
    "Models = {\n",
    "    \"LogisticReg\": LogisticRegression(C=1, max_iter=500, multi_class=\"multinomial\")\n",
    "    #\"SDGCLassifer\": SGDClassifier(loss='log_loss', max_iter=500, alpha=0.00001)\n",
    "    }\n",
    "\n",
    "modelsTrained = {\n",
    "    \n",
    "}\n",
    "\n",
    "for modelName, model in Models.items():\n",
    "\n",
    "    #fitModel = model.fit(XTrain, yTrain)\n",
    "    fitModel = model.fit(XTrain, yTrain)\n",
    "    \n",
    "    trainPred = fitModel.predict(XTrain)\n",
    "    trainMeanError = accuracy_score(trainPred, yTrain)\n",
    "    print(modelName, \" Train Accuracy: \", trainMeanError)\n",
    "    trainConfusionMatrix = confusion_matrix(trainPred, yTrain)\n",
    "    print(trainConfusionMatrix)\n",
    "\n",
    "    validPred = fitModel.predict(XValid)\n",
    "    validMeanError = accuracy_score(validPred, yValid)\n",
    "    print(modelName, \" Valid Accuracy: \", validMeanError)\n",
    "    validConfusionMatrix = confusion_matrix(validPred, yValid)\n",
    "    print(validConfusionMatrix)\n",
    "    \n",
    "    #Saves the fit model\n",
    "    modelsTrained[modelName] = fitModel"
   ]
  },
  {
   "cell_type": "markdown",
   "metadata": {
    "papermill": {
     "duration": 0.014201,
     "end_time": "2022-08-08T09:42:52.560921",
     "exception": false,
     "start_time": "2022-08-08T09:42:52.546720",
     "status": "completed"
    },
    "tags": []
   },
   "source": [
    "Clears Train data memory"
   ]
  },
  {
   "cell_type": "code",
   "execution_count": 14,
   "metadata": {
    "execution": {
     "iopub.execute_input": "2022-08-08T09:42:52.592134Z",
     "iopub.status.busy": "2022-08-08T09:42:52.591502Z",
     "iopub.status.idle": "2022-08-08T09:42:52.981136Z",
     "shell.execute_reply": "2022-08-08T09:42:52.979928Z"
    },
    "papermill": {
     "duration": 0.408298,
     "end_time": "2022-08-08T09:42:52.983709",
     "exception": false,
     "start_time": "2022-08-08T09:42:52.575411",
     "status": "completed"
    },
    "tags": []
   },
   "outputs": [
    {
     "data": {
      "text/plain": [
       "74"
      ]
     },
     "execution_count": 14,
     "metadata": {},
     "output_type": "execute_result"
    }
   ],
   "source": [
    "del XTrain\n",
    "del XValid\n",
    "del yTrain\n",
    "del yValid\n",
    "\n",
    "gc.collect()"
   ]
  },
  {
   "cell_type": "markdown",
   "metadata": {
    "papermill": {
     "duration": 0.008779,
     "end_time": "2022-08-08T09:42:53.001572",
     "exception": false,
     "start_time": "2022-08-08T09:42:52.992793",
     "status": "completed"
    },
    "tags": []
   },
   "source": []
  },
  {
   "cell_type": "markdown",
   "metadata": {
    "papermill": {
     "duration": 0.008635,
     "end_time": "2022-08-08T09:42:53.019193",
     "exception": false,
     "start_time": "2022-08-08T09:42:53.010558",
     "status": "completed"
    },
    "tags": []
   },
   "source": [
    "Setting up test dataset"
   ]
  },
  {
   "cell_type": "code",
   "execution_count": 15,
   "metadata": {
    "execution": {
     "iopub.execute_input": "2022-08-08T09:42:53.039100Z",
     "iopub.status.busy": "2022-08-08T09:42:53.038254Z",
     "iopub.status.idle": "2022-08-08T09:42:53.220640Z",
     "shell.execute_reply": "2022-08-08T09:42:53.219468Z"
    },
    "papermill": {
     "duration": 0.195513,
     "end_time": "2022-08-08T09:42:53.223572",
     "exception": false,
     "start_time": "2022-08-08T09:42:53.028059",
     "status": "completed"
    },
    "tags": []
   },
   "outputs": [],
   "source": [
    "test = pd.read_csv(\"../input/feedback-prize-effectiveness/test.csv\")\n",
    "\n",
    "testID = test['discourse_id']\n",
    "\n",
    "test.drop(['discourse_id', 'essay_id'] , axis=1, inplace=True)\n",
    "cleanText(test)\n",
    "\n",
    "test_vectors = countVec.transform(test['discourse_text'])\n",
    "test_vec_arr = test_vectors.toarray()\n",
    "    #test_vec_dataframe = pd.DataFrame(data=test_vec_arr, columns=vector_features)\n",
    "test = pd.concat([test, pd.DataFrame(data=test_vec_arr, columns=vector_features).reset_index(drop=True)], axis=1)\n",
    "\n",
    "del test_vectors\n",
    "del test_vec_arr\n",
    "gc.collect()\n",
    "\n",
    "X_categorical_OneHot_test = pd.DataFrame(OH_encoder.transform(test[['discourse_type']]))\n",
    "test = combineDataFrame(test, [X_categorical_OneHot_test])"
   ]
  },
  {
   "cell_type": "markdown",
   "metadata": {
    "papermill": {
     "duration": 0.008752,
     "end_time": "2022-08-08T09:42:53.241257",
     "exception": false,
     "start_time": "2022-08-08T09:42:53.232505",
     "status": "completed"
    },
    "tags": []
   },
   "source": [
    "**Exporing Submission**"
   ]
  },
  {
   "cell_type": "code",
   "execution_count": 16,
   "metadata": {
    "execution": {
     "iopub.execute_input": "2022-08-08T09:42:53.261387Z",
     "iopub.status.busy": "2022-08-08T09:42:53.260537Z",
     "iopub.status.idle": "2022-08-08T09:42:53.372587Z",
     "shell.execute_reply": "2022-08-08T09:42:53.371405Z"
    },
    "papermill": {
     "duration": 0.128043,
     "end_time": "2022-08-08T09:42:53.378244",
     "exception": false,
     "start_time": "2022-08-08T09:42:53.250201",
     "status": "completed"
    },
    "tags": []
   },
   "outputs": [
    {
     "name": "stderr",
     "output_type": "stream",
     "text": [
      "/opt/conda/lib/python3.7/site-packages/sklearn/utils/validation.py:1692: FutureWarning: Feature names only support names that are all strings. Got feature names with dtypes: ['int', 'str']. An error will be raised in 1.2.\n",
      "  FutureWarning,\n"
     ]
    },
    {
     "data": {
      "text/html": [
       "<div>\n",
       "<style scoped>\n",
       "    .dataframe tbody tr th:only-of-type {\n",
       "        vertical-align: middle;\n",
       "    }\n",
       "\n",
       "    .dataframe tbody tr th {\n",
       "        vertical-align: top;\n",
       "    }\n",
       "\n",
       "    .dataframe thead th {\n",
       "        text-align: right;\n",
       "    }\n",
       "</style>\n",
       "<table border=\"1\" class=\"dataframe\">\n",
       "  <thead>\n",
       "    <tr style=\"text-align: right;\">\n",
       "      <th></th>\n",
       "      <th>discourse_id</th>\n",
       "      <th>Ineffective</th>\n",
       "      <th>Adequate</th>\n",
       "      <th>Effective</th>\n",
       "    </tr>\n",
       "  </thead>\n",
       "  <tbody>\n",
       "    <tr>\n",
       "      <th>0</th>\n",
       "      <td>a261b6e14276</td>\n",
       "      <td>0.010497</td>\n",
       "      <td>0.088991</td>\n",
       "      <td>0.900512</td>\n",
       "    </tr>\n",
       "    <tr>\n",
       "      <th>1</th>\n",
       "      <td>5a88900e7dc1</td>\n",
       "      <td>0.078411</td>\n",
       "      <td>0.573585</td>\n",
       "      <td>0.348004</td>\n",
       "    </tr>\n",
       "    <tr>\n",
       "      <th>2</th>\n",
       "      <td>9790d835736b</td>\n",
       "      <td>0.077982</td>\n",
       "      <td>0.468867</td>\n",
       "      <td>0.453151</td>\n",
       "    </tr>\n",
       "    <tr>\n",
       "      <th>3</th>\n",
       "      <td>75ce6d68b67b</td>\n",
       "      <td>0.074661</td>\n",
       "      <td>0.424698</td>\n",
       "      <td>0.500640</td>\n",
       "    </tr>\n",
       "    <tr>\n",
       "      <th>4</th>\n",
       "      <td>93578d946723</td>\n",
       "      <td>0.369065</td>\n",
       "      <td>0.429896</td>\n",
       "      <td>0.201038</td>\n",
       "    </tr>\n",
       "    <tr>\n",
       "      <th>5</th>\n",
       "      <td>2e214524dbe3</td>\n",
       "      <td>0.121069</td>\n",
       "      <td>0.070578</td>\n",
       "      <td>0.808353</td>\n",
       "    </tr>\n",
       "    <tr>\n",
       "      <th>6</th>\n",
       "      <td>84812fc2ab9f</td>\n",
       "      <td>0.005753</td>\n",
       "      <td>0.128793</td>\n",
       "      <td>0.865454</td>\n",
       "    </tr>\n",
       "    <tr>\n",
       "      <th>7</th>\n",
       "      <td>c668ff840720</td>\n",
       "      <td>0.211706</td>\n",
       "      <td>0.469327</td>\n",
       "      <td>0.318967</td>\n",
       "    </tr>\n",
       "    <tr>\n",
       "      <th>8</th>\n",
       "      <td>739a6d00f44a</td>\n",
       "      <td>0.204220</td>\n",
       "      <td>0.136602</td>\n",
       "      <td>0.659178</td>\n",
       "    </tr>\n",
       "    <tr>\n",
       "      <th>9</th>\n",
       "      <td>bcfae2c9a244</td>\n",
       "      <td>0.017664</td>\n",
       "      <td>0.151697</td>\n",
       "      <td>0.830639</td>\n",
       "    </tr>\n",
       "  </tbody>\n",
       "</table>\n",
       "</div>"
      ],
      "text/plain": [
       "   discourse_id  Ineffective  Adequate  Effective\n",
       "0  a261b6e14276     0.010497  0.088991   0.900512\n",
       "1  5a88900e7dc1     0.078411  0.573585   0.348004\n",
       "2  9790d835736b     0.077982  0.468867   0.453151\n",
       "3  75ce6d68b67b     0.074661  0.424698   0.500640\n",
       "4  93578d946723     0.369065  0.429896   0.201038\n",
       "5  2e214524dbe3     0.121069  0.070578   0.808353\n",
       "6  84812fc2ab9f     0.005753  0.128793   0.865454\n",
       "7  c668ff840720     0.211706  0.469327   0.318967\n",
       "8  739a6d00f44a     0.204220  0.136602   0.659178\n",
       "9  bcfae2c9a244     0.017664  0.151697   0.830639"
      ]
     },
     "execution_count": 16,
     "metadata": {},
     "output_type": "execute_result"
    }
   ],
   "source": [
    "testPred = modelsTrained['LogisticReg'].predict_proba(test)\n",
    "\n",
    "submission.loc[:, \"discourse_id\"] =testID\n",
    "submission.loc[:,\"Ineffective\"] = testPred[:,0]\n",
    "submission.loc[:,\"Adequate\"] = testPred[:,1]\n",
    "submission.loc[:,\"Effective\"] = testPred[:,2]\n",
    "\n",
    "submission"
   ]
  },
  {
   "cell_type": "code",
   "execution_count": 17,
   "metadata": {
    "execution": {
     "iopub.execute_input": "2022-08-08T09:42:53.411485Z",
     "iopub.status.busy": "2022-08-08T09:42:53.410900Z",
     "iopub.status.idle": "2022-08-08T09:42:53.426621Z",
     "shell.execute_reply": "2022-08-08T09:42:53.425350Z"
    },
    "papermill": {
     "duration": 0.036421,
     "end_time": "2022-08-08T09:42:53.430464",
     "exception": false,
     "start_time": "2022-08-08T09:42:53.394043",
     "status": "completed"
    },
    "tags": []
   },
   "outputs": [],
   "source": [
    "submission.to_csv('submission.csv',index=None)"
   ]
  }
 ],
 "metadata": {
  "kernelspec": {
   "display_name": "Python 3",
   "language": "python",
   "name": "python3"
  },
  "language_info": {
   "codemirror_mode": {
    "name": "ipython",
    "version": 3
   },
   "file_extension": ".py",
   "mimetype": "text/x-python",
   "name": "python",
   "nbconvert_exporter": "python",
   "pygments_lexer": "ipython3",
   "version": "3.8.3"
  },
  "papermill": {
   "default_parameters": {},
   "duration": 640.596653,
   "end_time": "2022-08-08T09:42:54.475414",
   "environment_variables": {},
   "exception": null,
   "input_path": "__notebook__.ipynb",
   "output_path": "__notebook__.ipynb",
   "parameters": {},
   "start_time": "2022-08-08T09:32:13.878761",
   "version": "2.3.4"
  }
 },
 "nbformat": 4,
 "nbformat_minor": 5
}
