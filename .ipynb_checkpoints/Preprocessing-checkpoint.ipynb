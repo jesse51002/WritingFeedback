{
 "cells": [
  {
   "cell_type": "markdown",
   "metadata": {},
   "source": [
    "Import needed libarires"
   ]
  },
  {
   "cell_type": "code",
   "execution_count": 200,
   "metadata": {},
   "outputs": [],
   "source": [
    "import pandas as pd\n",
    "from nltk.corpus import stopwords\n",
    "from nltk.stem import PorterStemmer\n",
    "import re\n",
    "from sklearn.feature_extraction.text import CountVectorizer\n",
    "from sklearn.model_selection import train_test_split\n",
    "from sklearn.preprocessing import OneHotEncoder\n",
    "from imblearn.over_sampling import RandomOverSampler"
   ]
  },
  {
   "cell_type": "markdown",
   "metadata": {},
   "source": [
    "Import Dataset"
   ]
  },
  {
   "cell_type": "code",
   "execution_count": 201,
   "metadata": {},
   "outputs": [],
   "source": [
    "train = pd.read_csv(\"./Dataset/train.csv\")"
   ]
  },
  {
   "cell_type": "markdown",
   "metadata": {},
   "source": [
    "Analyze Dataset"
   ]
  },
  {
   "cell_type": "code",
   "execution_count": 202,
   "metadata": {},
   "outputs": [
    {
     "name": "stdout",
     "output_type": "stream",
     "text": [
      "Columns:  ['discourse_id', 'essay_id', 'discourse_text', 'discourse_type', 'discourse_effectiveness']\n",
      "Null values:  0\n",
      "Duplicates in text row:  74\n"
     ]
    },
    {
     "data": {
      "image/png": "[encoded data removed]",
      "text/plain": [
       "<Figure size 432x288 with 1 Axes>"
      ]
     },
     "metadata": {},
     "output_type": "display_data"
    }
   ],
   "source": [
    "print(\"Columns: \", list(train.columns))\n",
    "\n",
    "#Deletes uneeded rows\n",
    "train.drop(['discourse_id', 'essay_id'] , axis=1, inplace=True)\n",
    "\n",
    "print(\"Null values: \", train.isnull().values.sum())\n",
    "print(\"Duplicates in text row: \", train[\"discourse_text\"].duplicated().values.sum())\n",
    "\n",
    "train['discourse_effectiveness'].value_counts().plot.pie(autopct='%.2f')\n",
    "\n",
    "# ordinally encodes effectivness\n",
    "train['discourse_effectiveness'] = train[\"discourse_effectiveness\"].replace(\n",
    "            {\"Ineffective\": 0, \"Adequate\": 1, \"Effective\": 2}\n",
    "        )"
   ]
  },
  {
   "cell_type": "markdown",
   "metadata": {},
   "source": [
    "Deals with Duplicates (Duplicates means multiple opinions were given so taking the average)"
   ]
  },
  {
   "cell_type": "code",
   "execution_count": 203,
   "metadata": {},
   "outputs": [
    {
     "name": "stdout",
     "output_type": "stream",
     "text": [
      "                                                    discourse_effectiveness\n",
      "discourse_text                                                             \n",
      "\"That's a lava dome that takes the form of an i...                      1.0\n",
      "At the most basic level, the electoral college ...                      1.0\n",
      "Big States                                                              0.5\n",
      "I agree                                                                 1.0\n",
      "I think students should be required to perform ...                      1.0\n",
      "\n",
      "Duplicates in text row:  0\n"
     ]
    }
   ],
   "source": [
    "#creates a df with the average of the duplicates\n",
    "duplicateAverage = train.loc[train[\"discourse_text\"].duplicated(keep=False)].groupby(['discourse_text']).mean()\n",
    "print(duplicateAverage.head())\n",
    "\n",
    "# Drops all the duplicates except one which will be used as the replacement replaced\n",
    "train = train.loc[~train[\"discourse_text\"].duplicated(keep='first')]\n",
    "\n",
    "for i, x in train.iterrows():\n",
    "    text = x.discourse_text\n",
    "    \n",
    "    if text in duplicateAverage.index:\n",
    "        train.at[i, 'discourse_effectiveness'] = duplicateAverage.loc[text]\n",
    "        \n",
    "\n",
    "print(\"\\nDuplicates in text row: \", train[\"discourse_text\"].duplicated().values.sum())"
   ]
  },
  {
   "cell_type": "markdown",
   "metadata": {},
   "source": [
    "Feature Creation"
   ]
  },
  {
   "cell_type": "code",
   "execution_count": 204,
   "metadata": {},
   "outputs": [
    {
     "name": "stdout",
     "output_type": "stream",
     "text": [
      "Created Train Features\n"
     ]
    }
   ],
   "source": [
    "def createFeatures(df):\n",
    "    lengthArr = []\n",
    "    wordCountArr = []\n",
    "    sentCountArr = []\n",
    "    upperCasePerc = []\n",
    "    averageSentenceWord = []\n",
    "\n",
    "    for index, row in df.iterrows():\n",
    "        curText = row.discourse_text\n",
    "        # lower case conversion\n",
    "        curText = curText.lower()\n",
    "        # removes all the trailing and leading spaces\n",
    "        curText = curText.strip()\n",
    "        \n",
    "        # Gets the string length\n",
    "        stringLength = len(curText)\n",
    "        lengthArr.append(stringLength)\n",
    "        #Gets the words\n",
    "        words = curText.split()\n",
    "        #Gets the word count\n",
    "        wordCountArr.append(len(words))\n",
    "        #Gets the sentences\n",
    "        sentenceArr = [x for x in re.split(r\"[\\n\\.\\?\\!]+\", text) if len(x) > 0]\n",
    "        #Gets the sentence count\n",
    "        sentCountArr.append(len(sentenceArr))\n",
    "        #Gets the averge words in a sentence\n",
    "        averageSentenceWord.append(len(words) / len(sentenceArr))\n",
    "        \n",
    "        #Gets capitilization of letters percentage\n",
    "        i = 0\n",
    "        upper_count = 0\n",
    "        for sentence in sentenceArr:\n",
    "            while i < len(sentence):\n",
    "                if sentence[i].isalpha():\n",
    "                    if sentence[i].isupper():\n",
    "                        upper_count = upper_count + 1\n",
    "                    else:\n",
    "                        break\n",
    "                i = i + 1\n",
    "                \n",
    "        upperCasePerc.append(upper_count / len(sentenceArr) * 100)\n",
    "            \n",
    "    df['StringLength'] = lengthArr\n",
    "    df['WordCount'] = wordCountArr\n",
    "    df['SentenceCount'] = sentCountArr \n",
    "    df['upperCasePerc'] = upperCasePerc \n",
    "    df['averageSentenceWords'] = averageSentenceWord\n",
    "        \n",
    "createFeatures(train)\n",
    "print(\"Created Train Features\")\n"
   ]
  },
  {
   "cell_type": "markdown",
   "metadata": {},
   "source": [
    "Cleans the text"
   ]
  },
  {
   "cell_type": "code",
   "execution_count": 205,
   "metadata": {},
   "outputs": [
    {
     "name": "stdout",
     "output_type": "stream",
     "text": [
      "Cleaned Train Dataset\n"
     ]
    }
   ],
   "source": [
    "# ########## Clean data\n",
    "def cleanText(df):\n",
    "\n",
    "    stopWords = set(stopwords.words('english'))\n",
    "    stemmer = PorterStemmer()\n",
    "\n",
    "    for index, row in df.iterrows():\n",
    "\n",
    "        curText = row.discourse_text\n",
    "\n",
    "        # lower case conversion\n",
    "        curText = curText.lower()\n",
    "        # removes all the trailing and leading spaces\n",
    "        curText = curText.strip()\n",
    "        #Removes stop words\n",
    "        def remove_stop(x):\n",
    "            return \" \".join([word for word in str(x).split() if word not in stopWords])\n",
    "\n",
    "        curText = remove_stop(curText)\n",
    "        \n",
    "        #Replaces - with a spalce\n",
    "        curText = re.sub(r'-', ' ', curText)\n",
    "        # removing all non alpha numeric char\n",
    "        curText = re.sub(r'[^a-z0-9 ]+', '', curText)\n",
    "        # removing \"...\" (multiple periods in a row)\n",
    "        curText = re.sub(r'([.])\\1+', '', curText)\n",
    "        # stems the text\n",
    "        curText = stemmer.stem(curText)\n",
    "        # removing multiple spaces in a row\n",
    "        curText = re.sub(r'(\\s\\s)+', ' ', curText)\n",
    "        # replaces the text\n",
    "        df.at[index, 'discourse_text'] = curText\n",
    "\n",
    "\n",
    "cleanText(train)\n",
    "\n",
    "print(\"Cleaned Train Dataset\")"
   ]
  },
  {
   "cell_type": "markdown",
   "metadata": {},
   "source": [
    "Vectorizes the cleaned text"
   ]
  },
  {
   "cell_type": "code",
   "execution_count": 206,
   "metadata": {},
   "outputs": [
    {
     "name": "stdout",
     "output_type": "stream",
     "text": [
      "Feature Counts:  9676 \n",
      "\n",
      "\n"
     ]
    }
   ],
   "source": [
    "# Vectorized strings\n",
    "countVec = CountVectorizer(\n",
    "    ngram_range=(1,2),\n",
    "    min_df=15\n",
    ")\n",
    "\n",
    "# Fits the vectorized with train data\n",
    "train_vectors = countVec.fit_transform(train['discourse_text'])\n",
    "\n",
    "# Gets a list of all the words in the vector\n",
    "vector_features = countVec.get_feature_names_out()\n",
    "#print(\"Vector features: \", vector_features)  # Prints all the words fit intoz the in the vectorizer\n",
    "print(\"Feature Counts: \", len(vector_features), \"\\n\\n\")  # Prints the amount of words in the vectorizer\n",
    "# Converts the vectorized data matrix to array\n",
    "train_vec_arr = train_vectors.toarray()\n",
    "# Puts the vectorized data into the dataframe\n",
    "train_vec_dataframe = pd.DataFrame(data=train_vec_arr, columns=vector_features)\n"
   ]
  },
  {
   "cell_type": "markdown",
   "metadata": {},
   "source": [
    "One Hot Encondes the discourse type row"
   ]
  },
  {
   "cell_type": "code",
   "execution_count": 207,
   "metadata": {},
   "outputs": [
    {
     "name": "stdout",
     "output_type": "stream",
     "text": [
      "One hot enconded train dataset\n"
     ]
    }
   ],
   "source": [
    "# One hot encodes discourse type\n",
    "OH_encoder = OneHotEncoder(handle_unknown='ignore', sparse=False)\n",
    "X_categorical_OneHot_train = pd.DataFrame(OH_encoder.fit_transform(train[['discourse_type']]))\n",
    "\n",
    "print(\"One hot enconded train dataset\")"
   ]
  },
  {
   "cell_type": "markdown",
   "metadata": {},
   "source": [
    "Combines the Dataset"
   ]
  },
  {
   "cell_type": "code",
   "execution_count": 222,
   "metadata": {},
   "outputs": [
    {
     "name": "stdout",
     "output_type": "stream",
     "text": [
      "(36691, 8)\n",
      "(36691, 7)\n",
      "NAN count:  962\n",
      "(36691, 9676)\n",
      "NAN count:  716986\n",
      "Fully Combined the Train dataset\n"
     ]
    }
   ],
   "source": [
    "def combineDataFrame(dfOg, restDfs):\n",
    "    df = dfOg.copy()\n",
    "    # drops the text column as it has been vectorized and type since it's been one hot encoded\n",
    "    df.drop(['discourse_text', 'discourse_type'], inplace=True, axis=1)\n",
    "    #resets index to make concat work\n",
    "    df.reset_index(drop=True, inplace=True)\n",
    "    for curDf in restDfs:\n",
    "        #resets index to make concat work\n",
    "        curDf.reset_index(drop=True, inplace=True)\n",
    "        df = pd.concat([df, curDf], axis=1)\n",
    "        print(\"NAN count: \", df.isnull().sum().sum())\n",
    "\n",
    "    return df\n",
    "\n",
    "\n",
    "\n",
    "# Gets the combined and fully cleaned model\n",
    "trainFullyCombined = combineDataFrame(train, [X_categorical_OneHot_train, train_vec_dataframe])\n",
    "\n",
    "print(\"Fully Combined the Train dataset\")"
   ]
  },
  {
   "cell_type": "markdown",
   "metadata": {},
   "source": [
    "Train Test split to make Validation set"
   ]
  },
  {
   "cell_type": "code",
   "execution_count": 213,
   "metadata": {},
   "outputs": [
    {
     "name": "stdout",
     "output_type": "stream",
     "text": [
      "NAN count:  716986\n",
      "Split into train and validation\n"
     ]
    }
   ],
   "source": [
    "print(\"NAN count: \", trainFullyCombined.isnull().sum().sum())\n",
    "\n",
    "#Gets the y value\n",
    "yFinished = trainFullyCombined['discourse_effectiveness']\n",
    "#drops the y value\n",
    "trainFullyCombined.drop('discourse_effectiveness', axis=1, inplace=True)\n",
    "\n",
    "XTrain, XValid, yTrain, yValid = train_test_split(trainFullyCombined, yFinished, train_size=0.8, test_size=0.2, shuffle=True, random_state=1) \n",
    "print(\"Split into train and validation\")"
   ]
  },
  {
   "cell_type": "raw",
   "metadata": {},
   "source": [
    "Performs Oversampling on Train dataset"
   ]
  },
  {
   "cell_type": "code",
   "execution_count": 210,
   "metadata": {},
   "outputs": [
    {
     "ename": "ValueError",
     "evalue": "Input y contains NaN.",
     "output_type": "error",
     "traceback": [
      "\u001b[1;31m---------------------------------------------------------------------------\u001b[0m",
      "\u001b[1;31mValueError\u001b[0m                                Traceback (most recent call last)",
      "\u001b[1;32m<ipython-input-210-62c8595c64cd>\u001b[0m in \u001b[0;36m<module>\u001b[1;34m\u001b[0m\n\u001b[0;32m      2\u001b[0m \u001b[0mros\u001b[0m \u001b[1;33m=\u001b[0m \u001b[0mRandomOverSampler\u001b[0m\u001b[1;33m(\u001b[0m\u001b[0msampling_strategy\u001b[0m\u001b[1;33m=\u001b[0m\u001b[1;34m'auto'\u001b[0m\u001b[1;33m,\u001b[0m\u001b[0mrandom_state\u001b[0m\u001b[1;33m=\u001b[0m\u001b[1;36m0\u001b[0m\u001b[1;33m)\u001b[0m\u001b[1;33m\u001b[0m\u001b[1;33m\u001b[0m\u001b[0m\n\u001b[0;32m      3\u001b[0m \u001b[1;33m\u001b[0m\u001b[0m\n\u001b[1;32m----> 4\u001b[1;33m \u001b[0mxResampled\u001b[0m\u001b[1;33m,\u001b[0m \u001b[0myResampled\u001b[0m \u001b[1;33m=\u001b[0m \u001b[0mros\u001b[0m\u001b[1;33m.\u001b[0m\u001b[0mfit_resample\u001b[0m\u001b[1;33m(\u001b[0m\u001b[0mXTrain\u001b[0m\u001b[1;33m,\u001b[0m \u001b[0myTrain\u001b[0m\u001b[1;33m)\u001b[0m\u001b[1;33m\u001b[0m\u001b[1;33m\u001b[0m\u001b[0m\n\u001b[0m\u001b[0;32m      5\u001b[0m \u001b[1;33m\u001b[0m\u001b[0m\n\u001b[0;32m      6\u001b[0m \u001b[0mtrainSetFinished\u001b[0m \u001b[1;33m=\u001b[0m \u001b[0mxResampled\u001b[0m\u001b[1;33m\u001b[0m\u001b[1;33m\u001b[0m\u001b[0m\n",
      "\u001b[1;32m~\\AppData\\Roaming\\Python\\Python38\\site-packages\\imblearn\\base.py\u001b[0m in \u001b[0;36mfit_resample\u001b[1;34m(self, X, y)\u001b[0m\n\u001b[0;32m     73\u001b[0m             \u001b[0mThe\u001b[0m \u001b[0mcorresponding\u001b[0m \u001b[0mlabel\u001b[0m \u001b[0mof\u001b[0m\u001b[0;31m \u001b[0m\u001b[0;31m`\u001b[0m\u001b[0mX_resampled\u001b[0m\u001b[0;31m`\u001b[0m\u001b[1;33m.\u001b[0m\u001b[1;33m\u001b[0m\u001b[1;33m\u001b[0m\u001b[0m\n\u001b[0;32m     74\u001b[0m         \"\"\"\n\u001b[1;32m---> 75\u001b[1;33m         \u001b[0mcheck_classification_targets\u001b[0m\u001b[1;33m(\u001b[0m\u001b[0my\u001b[0m\u001b[1;33m)\u001b[0m\u001b[1;33m\u001b[0m\u001b[1;33m\u001b[0m\u001b[0m\n\u001b[0m\u001b[0;32m     76\u001b[0m         \u001b[0marrays_transformer\u001b[0m \u001b[1;33m=\u001b[0m \u001b[0mArraysTransformer\u001b[0m\u001b[1;33m(\u001b[0m\u001b[0mX\u001b[0m\u001b[1;33m,\u001b[0m \u001b[0my\u001b[0m\u001b[1;33m)\u001b[0m\u001b[1;33m\u001b[0m\u001b[1;33m\u001b[0m\u001b[0m\n\u001b[0;32m     77\u001b[0m         \u001b[0mX\u001b[0m\u001b[1;33m,\u001b[0m \u001b[0my\u001b[0m\u001b[1;33m,\u001b[0m \u001b[0mbinarize_y\u001b[0m \u001b[1;33m=\u001b[0m \u001b[0mself\u001b[0m\u001b[1;33m.\u001b[0m\u001b[0m_check_X_y\u001b[0m\u001b[1;33m(\u001b[0m\u001b[0mX\u001b[0m\u001b[1;33m,\u001b[0m \u001b[0my\u001b[0m\u001b[1;33m)\u001b[0m\u001b[1;33m\u001b[0m\u001b[1;33m\u001b[0m\u001b[0m\n",
      "\u001b[1;32m~\\AppData\\Roaming\\Python\\Python38\\site-packages\\sklearn\\utils\\multiclass.py\u001b[0m in \u001b[0;36mcheck_classification_targets\u001b[1;34m(y)\u001b[0m\n\u001b[0;32m    190\u001b[0m         \u001b[0mTarget\u001b[0m \u001b[0mvalues\u001b[0m\u001b[1;33m.\u001b[0m\u001b[1;33m\u001b[0m\u001b[1;33m\u001b[0m\u001b[0m\n\u001b[0;32m    191\u001b[0m     \"\"\"\n\u001b[1;32m--> 192\u001b[1;33m     \u001b[0my_type\u001b[0m \u001b[1;33m=\u001b[0m \u001b[0mtype_of_target\u001b[0m\u001b[1;33m(\u001b[0m\u001b[0my\u001b[0m\u001b[1;33m,\u001b[0m \u001b[0minput_name\u001b[0m\u001b[1;33m=\u001b[0m\u001b[1;34m\"y\"\u001b[0m\u001b[1;33m)\u001b[0m\u001b[1;33m\u001b[0m\u001b[1;33m\u001b[0m\u001b[0m\n\u001b[0m\u001b[0;32m    193\u001b[0m     if y_type not in [\n\u001b[0;32m    194\u001b[0m         \u001b[1;34m\"binary\"\u001b[0m\u001b[1;33m,\u001b[0m\u001b[1;33m\u001b[0m\u001b[1;33m\u001b[0m\u001b[0m\n",
      "\u001b[1;32m~\\AppData\\Roaming\\Python\\Python38\\site-packages\\sklearn\\utils\\multiclass.py\u001b[0m in \u001b[0;36mtype_of_target\u001b[1;34m(y, input_name)\u001b[0m\n\u001b[0;32m    330\u001b[0m     \u001b[1;32mif\u001b[0m \u001b[0my\u001b[0m\u001b[1;33m.\u001b[0m\u001b[0mdtype\u001b[0m\u001b[1;33m.\u001b[0m\u001b[0mkind\u001b[0m \u001b[1;33m==\u001b[0m \u001b[1;34m\"f\"\u001b[0m \u001b[1;32mand\u001b[0m \u001b[0mnp\u001b[0m\u001b[1;33m.\u001b[0m\u001b[0many\u001b[0m\u001b[1;33m(\u001b[0m\u001b[0my\u001b[0m \u001b[1;33m!=\u001b[0m \u001b[0my\u001b[0m\u001b[1;33m.\u001b[0m\u001b[0mastype\u001b[0m\u001b[1;33m(\u001b[0m\u001b[0mint\u001b[0m\u001b[1;33m)\u001b[0m\u001b[1;33m)\u001b[0m\u001b[1;33m:\u001b[0m\u001b[1;33m\u001b[0m\u001b[1;33m\u001b[0m\u001b[0m\n\u001b[0;32m    331\u001b[0m         \u001b[1;31m# [.1, .2, 3] or [[.1, .2, 3]] or [[1., .2]] and not [1., 2., 3.]\u001b[0m\u001b[1;33m\u001b[0m\u001b[1;33m\u001b[0m\u001b[1;33m\u001b[0m\u001b[0m\n\u001b[1;32m--> 332\u001b[1;33m         \u001b[0m_assert_all_finite\u001b[0m\u001b[1;33m(\u001b[0m\u001b[0my\u001b[0m\u001b[1;33m,\u001b[0m \u001b[0minput_name\u001b[0m\u001b[1;33m=\u001b[0m\u001b[0minput_name\u001b[0m\u001b[1;33m)\u001b[0m\u001b[1;33m\u001b[0m\u001b[1;33m\u001b[0m\u001b[0m\n\u001b[0m\u001b[0;32m    333\u001b[0m         \u001b[1;32mreturn\u001b[0m \u001b[1;34m\"continuous\"\u001b[0m \u001b[1;33m+\u001b[0m \u001b[0msuffix\u001b[0m\u001b[1;33m\u001b[0m\u001b[1;33m\u001b[0m\u001b[0m\n\u001b[0;32m    334\u001b[0m \u001b[1;33m\u001b[0m\u001b[0m\n",
      "\u001b[1;32m~\\AppData\\Roaming\\Python\\Python38\\site-packages\\sklearn\\utils\\validation.py\u001b[0m in \u001b[0;36m_assert_all_finite\u001b[1;34m(X, allow_nan, msg_dtype, estimator_name, input_name)\u001b[0m\n\u001b[0;32m    144\u001b[0m                     \u001b[1;34m\"#estimators-that-handle-nan-values\"\u001b[0m\u001b[1;33m\u001b[0m\u001b[1;33m\u001b[0m\u001b[0m\n\u001b[0;32m    145\u001b[0m                 )\n\u001b[1;32m--> 146\u001b[1;33m             \u001b[1;32mraise\u001b[0m \u001b[0mValueError\u001b[0m\u001b[1;33m(\u001b[0m\u001b[0mmsg_err\u001b[0m\u001b[1;33m)\u001b[0m\u001b[1;33m\u001b[0m\u001b[1;33m\u001b[0m\u001b[0m\n\u001b[0m\u001b[0;32m    147\u001b[0m \u001b[1;33m\u001b[0m\u001b[0m\n\u001b[0;32m    148\u001b[0m     \u001b[1;31m# for object dtype data, we only check for NaNs (GH-13254)\u001b[0m\u001b[1;33m\u001b[0m\u001b[1;33m\u001b[0m\u001b[1;33m\u001b[0m\u001b[0m\n",
      "\u001b[1;31mValueError\u001b[0m: Input y contains NaN."
     ]
    }
   ],
   "source": [
    "\n",
    "\n",
    "# Performs oversampling with a 1-1 ratio\n",
    "ros = RandomOverSampler(sampling_strategy='auto',random_state=0)\n",
    "\n",
    "xResampled, yResampled = ros.fit_resample(XTrain, yTrain)\n",
    "\n",
    "trainSetFinished = xResampled\n",
    "trainSetFinished['discourse_effectiveness'] = yResampled\n",
    "\n",
    "validSetFinished = XValid\n",
    "validSetFinished['discourse_effectiveness'] = yValid\n",
    "\n",
    "trainSetFinished['discourse_effectiveness'].value_counts().plot.pie(autopct='%.2f')"
   ]
  },
  {
   "cell_type": "code",
   "execution_count": null,
   "metadata": {},
   "outputs": [],
   "source": [
    "print(trainSetFinished.head())\n",
    "trainSetFinished.to_csv('./Dataset/trainFullyProcessed.csv', index=False)\n",
    "\n",
    "print(validSetFinished.head())\n",
    "validSetFinished.to_csv('./Dataset/validFullyProcessed.csv', index=False)"
   ]
  },
  {
   "cell_type": "code",
   "execution_count": null,
   "metadata": {},
   "outputs": [],
   "source": []
  }
 ],
 "metadata": {
  "kernelspec": {
   "display_name": "Python 3",
   "language": "python",
   "name": "python3"
  },
  "language_info": {
   "codemirror_mode": {
    "name": "ipython",
    "version": 3
   },
   "file_extension": ".py",
   "mimetype": "text/x-python",
   "name": "python",
   "nbconvert_exporter": "python",
   "pygments_lexer": "ipython3",
   "version": "3.8.3"
  }
 },
 "nbformat": 4,
 "nbformat_minor": 4
}
