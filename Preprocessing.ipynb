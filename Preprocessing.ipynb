{
 "cells": [
  {
   "cell_type": "markdown",
   "metadata": {},
   "source": [
    "Import needed libarires"
   ]
  },
  {
   "cell_type": "code",
   "execution_count": 52,
   "metadata": {},
   "outputs": [],
   "source": [
    "import pandas as pd\n",
    "from nltk.corpus import stopwords\n",
    "from nltk.stem import PorterStemmer\n",
    "import re\n",
    "from sklearn.feature_extraction.text import CountVectorizer\n",
    "from sklearn.model_selection import train_test_split\n",
    "from sklearn.preprocessing import OneHotEncoder\n",
    "from imblearn.over_sampling import RandomOverSampler"
   ]
  },
  {
   "cell_type": "markdown",
   "metadata": {},
   "source": [
    "Import Dataset"
   ]
  },
  {
   "cell_type": "code",
   "execution_count": 95,
   "metadata": {},
   "outputs": [],
   "source": [
    "train = pd.read_csv(\"./Dataset/train.csv\")"
   ]
  },
  {
   "cell_type": "markdown",
   "metadata": {},
   "source": [
    "Analyze Dataset"
   ]
  },
  {
   "cell_type": "code",
   "execution_count": 96,
   "metadata": {},
   "outputs": [
    {
     "name": "stdout",
     "output_type": "stream",
     "text": [
      "Columns:  ['discourse_id', 'essay_id', 'discourse_text', 'discourse_type', 'discourse_effectiveness']\n",
      "Null values:  0\n",
      "Duplicates in text row:  74\n"
     ]
    },
    {
     "data": {
      "image/png": "[encoded data removed]",
      "text/plain": [
       "<Figure size 432x288 with 1 Axes>"
      ]
     },
     "metadata": {},
     "output_type": "display_data"
    }
   ],
   "source": [
    "print(\"Columns: \", list(train.columns))\n",
    "\n",
    "#Deletes uneeded rows\n",
    "train.drop(['discourse_id', 'essay_id'] , axis=1, inplace=True)\n",
    "\n",
    "print(\"Null values: \", train.isnull().values.sum())\n",
    "print(\"Duplicates in text row: \", train[\"discourse_text\"].duplicated().values.sum())\n",
    "\n",
    "train['discourse_effectiveness'].value_counts().plot.pie(autopct='%.2f')\n",
    "\n",
    "train['discourse_effectiveness'] = train[\"discourse_effectiveness\"].replace(\n",
    "            {\"Ineffective\": 0, \"Adequate\": 1, \"Effective\": 2}\n",
    "        )"
   ]
  },
  {
   "cell_type": "markdown",
   "metadata": {},
   "source": [
    "Deals with Duplicates (Duplicates means multiple opinions were given so taking the average)"
   ]
  },
  {
   "cell_type": "code",
   "execution_count": 97,
   "metadata": {},
   "outputs": [
    {
     "name": "stdout",
     "output_type": "stream",
     "text": [
      "                                                    discourse_effectiveness\n",
      "discourse_text                                                             \n",
      "\"That's a lava dome that takes the form of an i...                      1.0\n",
      "At the most basic level, the electoral college ...                      1.0\n",
      "Big States                                                              0.5\n",
      "I agree                                                                 1.0\n",
      "I think students should be required to perform ...                      1.0\n",
      "I think we should keep the Electoral College                            1.0\n",
      "I think we should keep the electoral college                            1.0\n",
      "I would want to keep the Electoral College                              1.5\n",
      "In \"The Challenge of Exploring Venus,\" the auth...                      1.0\n",
      "In the ruels of voteing there should be change.                         1.0\n"
     ]
    },
    {
     "ename": "KeyError",
     "evalue": "'discourse_text'",
     "output_type": "error",
     "traceback": [
      "\u001b[1;31m---------------------------------------------------------------------------\u001b[0m",
      "\u001b[1;31mKeyError\u001b[0m                                  Traceback (most recent call last)",
      "\u001b[1;32mC:\\ProgramData\\Anaconda3\\lib\\site-packages\\pandas\\core\\indexes\\base.py\u001b[0m in \u001b[0;36mget_loc\u001b[1;34m(self, key, method, tolerance)\u001b[0m\n\u001b[0;32m   2645\u001b[0m             \u001b[1;32mtry\u001b[0m\u001b[1;33m:\u001b[0m\u001b[1;33m\u001b[0m\u001b[1;33m\u001b[0m\u001b[0m\n\u001b[1;32m-> 2646\u001b[1;33m                 \u001b[1;32mreturn\u001b[0m \u001b[0mself\u001b[0m\u001b[1;33m.\u001b[0m\u001b[0m_engine\u001b[0m\u001b[1;33m.\u001b[0m\u001b[0mget_loc\u001b[0m\u001b[1;33m(\u001b[0m\u001b[0mkey\u001b[0m\u001b[1;33m)\u001b[0m\u001b[1;33m\u001b[0m\u001b[1;33m\u001b[0m\u001b[0m\n\u001b[0m\u001b[0;32m   2647\u001b[0m             \u001b[1;32mexcept\u001b[0m \u001b[0mKeyError\u001b[0m\u001b[1;33m:\u001b[0m\u001b[1;33m\u001b[0m\u001b[1;33m\u001b[0m\u001b[0m\n",
      "\u001b[1;32mpandas\\_libs\\index.pyx\u001b[0m in \u001b[0;36mpandas._libs.index.IndexEngine.get_loc\u001b[1;34m()\u001b[0m\n",
      "\u001b[1;32mpandas\\_libs\\index.pyx\u001b[0m in \u001b[0;36mpandas._libs.index.IndexEngine.get_loc\u001b[1;34m()\u001b[0m\n",
      "\u001b[1;32mpandas\\_libs\\hashtable_class_helper.pxi\u001b[0m in \u001b[0;36mpandas._libs.hashtable.PyObjectHashTable.get_item\u001b[1;34m()\u001b[0m\n",
      "\u001b[1;32mpandas\\_libs\\hashtable_class_helper.pxi\u001b[0m in \u001b[0;36mpandas._libs.hashtable.PyObjectHashTable.get_item\u001b[1;34m()\u001b[0m\n",
      "\u001b[1;31mKeyError\u001b[0m: 'discourse_text'",
      "\nDuring handling of the above exception, another exception occurred:\n",
      "\u001b[1;31mKeyError\u001b[0m                                  Traceback (most recent call last)",
      "\u001b[1;32m<ipython-input-97-38616f2a66e3>\u001b[0m in \u001b[0;36m<module>\u001b[1;34m\u001b[0m\n\u001b[0;32m      5\u001b[0m \u001b[0munDuplicatedDf\u001b[0m \u001b[1;33m=\u001b[0m \u001b[0mduplicateDf\u001b[0m\u001b[1;33m.\u001b[0m\u001b[0mgroupby\u001b[0m\u001b[1;33m(\u001b[0m\u001b[1;33m[\u001b[0m\u001b[1;34m'discourse_text'\u001b[0m\u001b[1;33m]\u001b[0m\u001b[1;33m)\u001b[0m\u001b[1;33m.\u001b[0m\u001b[0mmean\u001b[0m\u001b[1;33m(\u001b[0m\u001b[1;33m)\u001b[0m\u001b[1;33m\u001b[0m\u001b[1;33m\u001b[0m\u001b[0m\n\u001b[0;32m      6\u001b[0m \u001b[0mprint\u001b[0m\u001b[1;33m(\u001b[0m\u001b[0munDuplicatedDf\u001b[0m\u001b[1;33m.\u001b[0m\u001b[0mhead\u001b[0m\u001b[1;33m(\u001b[0m\u001b[1;36m10\u001b[0m\u001b[1;33m)\u001b[0m\u001b[1;33m)\u001b[0m\u001b[1;33m\u001b[0m\u001b[1;33m\u001b[0m\u001b[0m\n\u001b[1;32m----> 7\u001b[1;33m \u001b[0mprint\u001b[0m\u001b[1;33m(\u001b[0m\u001b[1;34m\"Duplicates in text row: \"\u001b[0m\u001b[1;33m,\u001b[0m \u001b[0munDuplicatedDf\u001b[0m\u001b[1;33m[\u001b[0m\u001b[1;34m\"discourse_text\"\u001b[0m\u001b[1;33m]\u001b[0m\u001b[1;33m.\u001b[0m\u001b[0mduplicated\u001b[0m\u001b[1;33m(\u001b[0m\u001b[1;33m)\u001b[0m\u001b[1;33m.\u001b[0m\u001b[0mvalues\u001b[0m\u001b[1;33m.\u001b[0m\u001b[0msum\u001b[0m\u001b[1;33m(\u001b[0m\u001b[1;33m)\u001b[0m\u001b[1;33m)\u001b[0m\u001b[1;33m\u001b[0m\u001b[1;33m\u001b[0m\u001b[0m\n\u001b[0m\u001b[0;32m      8\u001b[0m \u001b[1;33m\u001b[0m\u001b[0m\n\u001b[0;32m      9\u001b[0m \u001b[1;31m# ordinally encodes effectivness\u001b[0m\u001b[1;33m\u001b[0m\u001b[1;33m\u001b[0m\u001b[1;33m\u001b[0m\u001b[0m\n",
      "\u001b[1;32mC:\\ProgramData\\Anaconda3\\lib\\site-packages\\pandas\\core\\frame.py\u001b[0m in \u001b[0;36m__getitem__\u001b[1;34m(self, key)\u001b[0m\n\u001b[0;32m   2798\u001b[0m             \u001b[1;32mif\u001b[0m \u001b[0mself\u001b[0m\u001b[1;33m.\u001b[0m\u001b[0mcolumns\u001b[0m\u001b[1;33m.\u001b[0m\u001b[0mnlevels\u001b[0m \u001b[1;33m>\u001b[0m \u001b[1;36m1\u001b[0m\u001b[1;33m:\u001b[0m\u001b[1;33m\u001b[0m\u001b[1;33m\u001b[0m\u001b[0m\n\u001b[0;32m   2799\u001b[0m                 \u001b[1;32mreturn\u001b[0m \u001b[0mself\u001b[0m\u001b[1;33m.\u001b[0m\u001b[0m_getitem_multilevel\u001b[0m\u001b[1;33m(\u001b[0m\u001b[0mkey\u001b[0m\u001b[1;33m)\u001b[0m\u001b[1;33m\u001b[0m\u001b[1;33m\u001b[0m\u001b[0m\n\u001b[1;32m-> 2800\u001b[1;33m             \u001b[0mindexer\u001b[0m \u001b[1;33m=\u001b[0m \u001b[0mself\u001b[0m\u001b[1;33m.\u001b[0m\u001b[0mcolumns\u001b[0m\u001b[1;33m.\u001b[0m\u001b[0mget_loc\u001b[0m\u001b[1;33m(\u001b[0m\u001b[0mkey\u001b[0m\u001b[1;33m)\u001b[0m\u001b[1;33m\u001b[0m\u001b[1;33m\u001b[0m\u001b[0m\n\u001b[0m\u001b[0;32m   2801\u001b[0m             \u001b[1;32mif\u001b[0m \u001b[0mis_integer\u001b[0m\u001b[1;33m(\u001b[0m\u001b[0mindexer\u001b[0m\u001b[1;33m)\u001b[0m\u001b[1;33m:\u001b[0m\u001b[1;33m\u001b[0m\u001b[1;33m\u001b[0m\u001b[0m\n\u001b[0;32m   2802\u001b[0m                 \u001b[0mindexer\u001b[0m \u001b[1;33m=\u001b[0m \u001b[1;33m[\u001b[0m\u001b[0mindexer\u001b[0m\u001b[1;33m]\u001b[0m\u001b[1;33m\u001b[0m\u001b[1;33m\u001b[0m\u001b[0m\n",
      "\u001b[1;32mC:\\ProgramData\\Anaconda3\\lib\\site-packages\\pandas\\core\\indexes\\base.py\u001b[0m in \u001b[0;36mget_loc\u001b[1;34m(self, key, method, tolerance)\u001b[0m\n\u001b[0;32m   2646\u001b[0m                 \u001b[1;32mreturn\u001b[0m \u001b[0mself\u001b[0m\u001b[1;33m.\u001b[0m\u001b[0m_engine\u001b[0m\u001b[1;33m.\u001b[0m\u001b[0mget_loc\u001b[0m\u001b[1;33m(\u001b[0m\u001b[0mkey\u001b[0m\u001b[1;33m)\u001b[0m\u001b[1;33m\u001b[0m\u001b[1;33m\u001b[0m\u001b[0m\n\u001b[0;32m   2647\u001b[0m             \u001b[1;32mexcept\u001b[0m \u001b[0mKeyError\u001b[0m\u001b[1;33m:\u001b[0m\u001b[1;33m\u001b[0m\u001b[1;33m\u001b[0m\u001b[0m\n\u001b[1;32m-> 2648\u001b[1;33m                 \u001b[1;32mreturn\u001b[0m \u001b[0mself\u001b[0m\u001b[1;33m.\u001b[0m\u001b[0m_engine\u001b[0m\u001b[1;33m.\u001b[0m\u001b[0mget_loc\u001b[0m\u001b[1;33m(\u001b[0m\u001b[0mself\u001b[0m\u001b[1;33m.\u001b[0m\u001b[0m_maybe_cast_indexer\u001b[0m\u001b[1;33m(\u001b[0m\u001b[0mkey\u001b[0m\u001b[1;33m)\u001b[0m\u001b[1;33m)\u001b[0m\u001b[1;33m\u001b[0m\u001b[1;33m\u001b[0m\u001b[0m\n\u001b[0m\u001b[0;32m   2649\u001b[0m         \u001b[0mindexer\u001b[0m \u001b[1;33m=\u001b[0m \u001b[0mself\u001b[0m\u001b[1;33m.\u001b[0m\u001b[0mget_indexer\u001b[0m\u001b[1;33m(\u001b[0m\u001b[1;33m[\u001b[0m\u001b[0mkey\u001b[0m\u001b[1;33m]\u001b[0m\u001b[1;33m,\u001b[0m \u001b[0mmethod\u001b[0m\u001b[1;33m=\u001b[0m\u001b[0mmethod\u001b[0m\u001b[1;33m,\u001b[0m \u001b[0mtolerance\u001b[0m\u001b[1;33m=\u001b[0m\u001b[0mtolerance\u001b[0m\u001b[1;33m)\u001b[0m\u001b[1;33m\u001b[0m\u001b[1;33m\u001b[0m\u001b[0m\n\u001b[0;32m   2650\u001b[0m         \u001b[1;32mif\u001b[0m \u001b[0mindexer\u001b[0m\u001b[1;33m.\u001b[0m\u001b[0mndim\u001b[0m \u001b[1;33m>\u001b[0m \u001b[1;36m1\u001b[0m \u001b[1;32mor\u001b[0m \u001b[0mindexer\u001b[0m\u001b[1;33m.\u001b[0m\u001b[0msize\u001b[0m \u001b[1;33m>\u001b[0m \u001b[1;36m1\u001b[0m\u001b[1;33m:\u001b[0m\u001b[1;33m\u001b[0m\u001b[1;33m\u001b[0m\u001b[0m\n",
      "\u001b[1;32mpandas\\_libs\\index.pyx\u001b[0m in \u001b[0;36mpandas._libs.index.IndexEngine.get_loc\u001b[1;34m()\u001b[0m\n",
      "\u001b[1;32mpandas\\_libs\\index.pyx\u001b[0m in \u001b[0;36mpandas._libs.index.IndexEngine.get_loc\u001b[1;34m()\u001b[0m\n",
      "\u001b[1;32mpandas\\_libs\\hashtable_class_helper.pxi\u001b[0m in \u001b[0;36mpandas._libs.hashtable.PyObjectHashTable.get_item\u001b[1;34m()\u001b[0m\n",
      "\u001b[1;32mpandas\\_libs\\hashtable_class_helper.pxi\u001b[0m in \u001b[0;36mpandas._libs.hashtable.PyObjectHashTable.get_item\u001b[1;34m()\u001b[0m\n",
      "\u001b[1;31mKeyError\u001b[0m: 'discourse_text'"
     ]
    }
   ],
   "source": [
    "#creates a df with every row that has a duplicate\n",
    "duplicateDf = train.loc[train[\"discourse_text\"].duplicated(keep=False)]\n",
    "\n",
    "\n",
    "unDuplicatedDf = duplicateDf.groupby(['discourse_text']).mean()\n",
    "print(unDuplicatedDf.head(10))\n",
    "print(\"Duplicates in text row: \", unDuplicatedDf[\"discourse_text\"].duplicated().values.sum())\n",
    "\n",
    "# ordinally encodes effectivness\n",
    "\n",
    "\n",
    "\"\"\"\n",
    "#Creates a df with the first being marked as false so we can know where to start iterating from\n",
    "duplicateBoolDf = train[\"discourse_text\"].duplicated(keep='first')\n",
    "\n",
    "for i,x in duplicateBoolDf.iteritems():\n",
    "    ratingSum = 0\n",
    "    ratingCount = 0\n",
    "    # if the value is false then it's the first iteration meaning we check from here\n",
    "    if not x:\n",
    "        for j in range(i, duplicateDf):\n",
    "            if(duplicate)\n",
    "            \n",
    "#Only keeps the first of the duplicates\n",
    "dfAverageDup = duplicateDf.loc[train[\"discourse_text\"].duplicated(keep='first')]\n",
    "\"\"\"       \n",
    "\n",
    "\n",
    "\n",
    "    \n"
   ]
  },
  {
   "cell_type": "markdown",
   "metadata": {},
   "source": [
    "Cleans the text"
   ]
  },
  {
   "cell_type": "code",
   "execution_count": 84,
   "metadata": {},
   "outputs": [
    {
     "name": "stdout",
     "output_type": "stream",
     "text": [
      "Cleaned Train Dataset\n"
     ]
    }
   ],
   "source": [
    "# ########## Clean data\n",
    "def cleanText(df):\n",
    "\n",
    "    stopWords = set(stopwords.words('english'))\n",
    "    stemmer = PorterStemmer()\n",
    "\n",
    "    lengthArr = []\n",
    "    wordCountArr = []\n",
    "    sentCountArr = []\n",
    "\n",
    "    for index, row in df.iterrows():\n",
    "\n",
    "        curText = row.discourse_text\n",
    "\n",
    "        # lower case conversion\n",
    "        curText = curText.lower()\n",
    "        # removes all the trailing and leading spaces\n",
    "        curText = curText.strip()\n",
    "\n",
    "        # Saves the lengths of the writing from the model\n",
    "        lengthArr.append(len(curText))\n",
    "        wordCountArr.append(len(curText.split()))\n",
    "        #\n",
    "        sentCountArr.append(len([x for x in re.split(r\"[\\n\\.\\?\\!]+\", curText) if len(x) > 0]))\n",
    "\n",
    "        #Removes stop words\n",
    "        def remove_stop(x):\n",
    "            return \" \".join([word for word in str(x).split() if word not in stopWords])\n",
    "\n",
    "        curText = remove_stop(curText)\n",
    "        \n",
    "        #Replaces - with a spalce\n",
    "        curText = re.sub(r'-', ' ', curText)\n",
    "        # removing all non alpha numeric char\n",
    "        curText = re.sub(r'[^a-z0-9 ]+', '', curText)\n",
    "        # removing \"...\" (multiple periods in a row)\n",
    "        curText = re.sub(r'([.])\\1+', '', curText)\n",
    "        # stems the text\n",
    "        curText = stemmer.stem(curText)\n",
    "\n",
    "        # removing multiple spaces in a row\n",
    "        curText = re.sub(r'(\\s\\s)+', ' ', curText)\n",
    "\n",
    "        # replaces the text\n",
    "        df.at[index, 'discourse_text'] = curText\n",
    "\n",
    "    df['StringLength'] = lengthArr\n",
    "    df['WordCount'] = wordCountArr\n",
    "    df['SentenceCount'] = sentCountArr\n",
    "\n",
    "\n",
    "cleanText(train)\n",
    "\n",
    "print(\"Cleaned Train Dataset\")"
   ]
  },
  {
   "cell_type": "markdown",
   "metadata": {},
   "source": [
    "Vectorizes the cleaned text"
   ]
  },
  {
   "cell_type": "code",
   "execution_count": 17,
   "metadata": {},
   "outputs": [
    {
     "name": "stdout",
     "output_type": "stream",
     "text": [
      "Feature Counts:  9470 \n",
      "\n",
      "\n"
     ]
    }
   ],
   "source": [
    "# Vectorized strings\n",
    "countVec = CountVectorizer(\n",
    "    ngram_range=(1,2),\n",
    "    min_df=15\n",
    ")\n",
    "\n",
    "# Fits the vectorized with train data\n",
    "train_vectors = countVec.fit_transform(train['discourse_text'])\n",
    "\n",
    "# Gets a list of all the words in the vector\n",
    "vector_features = countVec.get_feature_names()\n",
    "#print(\"Vector features: \", vector_features)  # Prints all the words fit intoz the in the vectorizer\n",
    "print(\"Feature Counts: \", len(vector_features), \"\\n\\n\")  # Prints the amount of words in the vectorizer\n",
    "# Converts the vectorized data matrix to array\n",
    "train_vec_arr = train_vectors.toarray()\n",
    "# Puts the vectorized data into the dataframe\n",
    "train_vec_dataframe = pd.DataFrame(data=train_vec_arr, columns=vector_features)\n"
   ]
  },
  {
   "cell_type": "markdown",
   "metadata": {},
   "source": [
    "One Hot Encondes the discourse type row"
   ]
  },
  {
   "cell_type": "code",
   "execution_count": 19,
   "metadata": {},
   "outputs": [
    {
     "name": "stdout",
     "output_type": "stream",
     "text": [
      "One hot enconded train dataset\n"
     ]
    }
   ],
   "source": [
    "# One hot encodes discourse type\n",
    "OH_encoder = OneHotEncoder(handle_unknown='ignore', sparse=False)\n",
    "X_categorical_OneHot_train = pd.DataFrame(OH_encoder.fit_transform(train[['discourse_type']]))\n",
    "\n",
    "print(\"One hot enconded train dataset\")"
   ]
  },
  {
   "cell_type": "markdown",
   "metadata": {},
   "source": [
    "Combines the Dataset"
   ]
  },
  {
   "cell_type": "code",
   "execution_count": 22,
   "metadata": {},
   "outputs": [
    {
     "name": "stdout",
     "output_type": "stream",
     "text": [
      "Fully Combined the Train dataset\n"
     ]
    }
   ],
   "source": [
    "def combineDataFrame(dfOg, restDfs):\n",
    "    df = dfOg.copy()\n",
    "\n",
    "    # drops the text column as it has been vectorized and type since it's been one hot encoded\n",
    "    df.drop(['discourse_text', 'discourse_type'], inplace=True, axis=1)\n",
    "\n",
    "    for curDf in restDfs:\n",
    "        df = pd.concat([df, curDf], axis=1)\n",
    "\n",
    "    return df\n",
    "\n",
    "\n",
    "# Gets the combined and fully cleaned model\n",
    "trainFullyCombined = combineDataFrame(train, [X_categorical_OneHot_train, train_vec_dataframe])\n",
    "\n",
    "print(\"Fully Combined the Train dataset\")"
   ]
  },
  {
   "cell_type": "raw",
   "metadata": {},
   "source": [
    "Performs Oversampling"
   ]
  },
  {
   "cell_type": "code",
   "execution_count": 45,
   "metadata": {},
   "outputs": [
    {
     "data": {
      "text/plain": [
       "<matplotlib.axes._subplots.AxesSubplot at 0x22e706c93a0>"
      ]
     },
     "execution_count": 45,
     "metadata": {},
     "output_type": "execute_result"
    },
    {
     "data": {
      "image/png": "[encoded data removed]",
      "text/plain": [
       "<Figure size 432x288 with 1 Axes>"
      ]
     },
     "metadata": {},
     "output_type": "display_data"
    }
   ],
   "source": [
    "# Performs oversampling with a 1-1 ratio\n",
    "ros = RandomOverSampler(sampling_strategy='auto',random_state=0)\n",
    "\n",
    "processedY = trainFullyCombined['discourse_effectiveness']\n",
    "trainFullyCombined.drop(['discourse_effectiveness'], axis=1, inplace=True)\n",
    "\n",
    "xResampled, yResampled = ros.fit_resample(trainFullyCombined, processedY)\n",
    "\n",
    "train = xResampled\n",
    "train['discourse_effectiveness'] = yResampled\n",
    "\n",
    "train['discourse_effectiveness'].value_counts().plot.pie(autopct='%.2f')\n",
    "\n"
   ]
  },
  {
   "cell_type": "code",
   "execution_count": null,
   "metadata": {},
   "outputs": [],
   "source": [
    "print(trainFullyProcessed.head())\n",
    "trainFullyProcessed.to_csv('./Dataset/trainFullyProcessed.csv', index=False)"
   ]
  }
 ],
 "metadata": {
  "kernelspec": {
   "display_name": "Python 3",
   "language": "python",
   "name": "python3"
  },
  "language_info": {
   "codemirror_mode": {
    "name": "ipython",
    "version": 3
   },
   "file_extension": ".py",
   "mimetype": "text/x-python",
   "name": "python",
   "nbconvert_exporter": "python",
   "pygments_lexer": "ipython3",
   "version": "3.8.3"
  }
 },
 "nbformat": 4,
 "nbformat_minor": 4
}
