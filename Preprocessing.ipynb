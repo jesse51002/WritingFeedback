{
 "cells": [
  {
   "cell_type": "markdown",
   "metadata": {},
   "source": [
    "Import needed libarires"
   ]
  },
  {
   "cell_type": "code",
   "execution_count": 200,
   "metadata": {},
   "outputs": [],
   "source": [
    "import pandas as pd\n",
    "from nltk.corpus import stopwords\n",
    "from nltk.stem import PorterStemmer\n",
    "import re\n",
    "from sklearn.feature_extraction.text import CountVectorizer\n",
    "from sklearn.model_selection import train_test_split\n",
    "from sklearn.preprocessing import OneHotEncoder\n",
    "from imblearn.over_sampling import RandomOverSampler"
   ]
  },
  {
   "cell_type": "markdown",
   "metadata": {},
   "source": [
    "Import Dataset"
   ]
  },
  {
   "cell_type": "code",
   "execution_count": 201,
   "metadata": {},
   "outputs": [],
   "source": [
    "train = pd.read_csv(\"./Dataset/train.csv\")"
   ]
  },
  {
   "cell_type": "markdown",
   "metadata": {},
   "source": [
    "Analyze Dataset"
   ]
  },
  {
   "cell_type": "code",
   "execution_count": 202,
   "metadata": {},
   "outputs": [
    {
     "name": "stdout",
     "output_type": "stream",
     "text": [
      "Columns:  ['discourse_id', 'essay_id', 'discourse_text', 'discourse_type', 'discourse_effectiveness']\n",
      "Null values:  0\n",
      "Duplicates in text row:  74\n"
     ]
    },
    {
     "data": {
      "image/png": "[encoded data removed]",
      "text/plain": [
       "<Figure size 432x288 with 1 Axes>"
      ]
     },
     "metadata": {},
     "output_type": "display_data"
    }
   ],
   "source": [
    "print(\"Columns: \", list(train.columns))\n",
    "\n",
    "#Deletes uneeded rows\n",
    "train.drop(['discourse_id', 'essay_id'] , axis=1, inplace=True)\n",
    "\n",
    "print(\"Null values: \", train.isnull().values.sum())\n",
    "print(\"Duplicates in text row: \", train[\"discourse_text\"].duplicated().values.sum())\n",
    "\n",
    "train['discourse_effectiveness'].value_counts().plot.pie(autopct='%.2f')\n",
    "\n",
    "# ordinally encodes effectivness\n",
    "train['discourse_effectiveness'] = train[\"discourse_effectiveness\"].replace(\n",
    "            {\"Ineffective\": 0, \"Adequate\": 1, \"Effective\": 2}\n",
    "        )"
   ]
  },
  {
   "cell_type": "markdown",
   "metadata": {},
   "source": [
    "Deals with Duplicates (Duplicates means multiple opinions were given so taking the average)"
   ]
  },
  {
   "cell_type": "code",
   "execution_count": 203,
   "metadata": {},
   "outputs": [
    {
     "name": "stdout",
     "output_type": "stream",
     "text": [
      "                                                    discourse_effectiveness\n",
      "discourse_text                                                             \n",
      "\"That's a lava dome that takes the form of an i...                      1.0\n",
      "At the most basic level, the electoral college ...                      1.0\n",
      "Big States                                                              0.5\n",
      "I agree                                                                 1.0\n",
      "I think students should be required to perform ...                      1.0\n",
      "\n",
      "Duplicates in text row:  0\n"
     ]
    }
   ],
   "source": [
    "#creates a df with the average of the duplicates\n",
    "duplicateAverage = train.loc[train[\"discourse_text\"].duplicated(keep=False)].groupby(['discourse_text']).mean()\n",
    "print(duplicateAverage.head())\n",
    "\n",
    "# Drops all the duplicates except one which will be used as the replacement replaced\n",
    "train = train.loc[~train[\"discourse_text\"].duplicated(keep='first')]\n",
    "\n",
    "for i, x in train.iterrows():\n",
    "    text = x.discourse_text\n",
    "    \n",
    "    if text in duplicateAverage.index:\n",
    "        train.at[i, 'discourse_effectiveness'] = duplicateAverage.loc[text]\n",
    "        \n",
    "\n",
    "print(\"\\nDuplicates in text row: \", train[\"discourse_text\"].duplicated().values.sum())"
   ]
  },
  {
   "cell_type": "markdown",
   "metadata": {},
   "source": [
    "Feature Creation"
   ]
  },
  {
   "cell_type": "code",
   "execution_count": 204,
   "metadata": {},
   "outputs": [
    {
     "name": "stdout",
     "output_type": "stream",
     "text": [
      "Created Train Features\n"
     ]
    }
   ],
   "source": [
    "def createFeatures(df):\n",
    "    lengthArr = []\n",
    "    wordCountArr = []\n",
    "    sentCountArr = []\n",
    "    upperCasePerc = []\n",
    "    averageSentenceWord = []\n",
    "\n",
    "    for index, row in df.iterrows():\n",
    "        curText = row.discourse_text\n",
    "        # lower case conversion\n",
    "        curText = curText.lower()\n",
    "        # removes all the trailing and leading spaces\n",
    "        curText = curText.strip()\n",
    "        \n",
    "        # Gets the string length\n",
    "        stringLength = len(curText)\n",
    "        lengthArr.append(stringLength)\n",
    "        #Gets the words\n",
    "        words = curText.split()\n",
    "        #Gets the word count\n",
    "        wordCountArr.append(len(words))\n",
    "        #Gets the sentences\n",
    "        sentenceArr = [x for x in re.split(r\"[\\n\\.\\?\\!]+\", text) if len(x) > 0]\n",
    "        #Gets the sentence count\n",
    "        sentCountArr.append(len(sentenceArr))\n",
    "        #Gets the averge words in a sentence\n",
    "        averageSentenceWord.append(len(words) / len(sentenceArr))\n",
    "        \n",
    "        #Gets capitilization of letters percentage\n",
    "        i = 0\n",
    "        upper_count = 0\n",
    "        for sentence in sentenceArr:\n",
    "            while i < len(sentence):\n",
    "                if sentence[i].isalpha():\n",
    "                    if sentence[i].isupper():\n",
    "                        upper_count = upper_count + 1\n",
    "                    else:\n",
    "                        break\n",
    "                i = i + 1\n",
    "                \n",
    "        upperCasePerc.append(upper_count / len(sentenceArr) * 100)\n",
    "            \n",
    "    df['StringLength'] = lengthArr\n",
    "    df['WordCount'] = wordCountArr\n",
    "    df['SentenceCount'] = sentCountArr \n",
    "    df['upperCasePerc'] = upperCasePerc \n",
    "    df['averageSentenceWords'] = averageSentenceWord\n",
    "        \n",
    "createFeatures(train)\n",
    "print(\"Created Train Features\")\n"
   ]
  },
  {
   "cell_type": "markdown",
   "metadata": {},
   "source": [
    "Cleans the text"
   ]
  },
  {
   "cell_type": "code",
   "execution_count": 205,
   "metadata": {},
   "outputs": [
    {
     "name": "stdout",
     "output_type": "stream",
     "text": [
      "Cleaned Train Dataset\n"
     ]
    }
   ],
   "source": [
    "# ########## Clean data\n",
    "def cleanText(df):\n",
    "\n",
    "    stopWords = set(stopwords.words('english'))\n",
    "    stemmer = PorterStemmer()\n",
    "\n",
    "    for index, row in df.iterrows():\n",
    "\n",
    "        curText = row.discourse_text\n",
    "\n",
    "        # lower case conversion\n",
    "        curText = curText.lower()\n",
    "        # removes all the trailing and leading spaces\n",
    "        curText = curText.strip()\n",
    "        #Removes stop words\n",
    "        def remove_stop(x):\n",
    "            return \" \".join([word for word in str(x).split() if word not in stopWords])\n",
    "\n",
    "        curText = remove_stop(curText)\n",
    "        \n",
    "        #Replaces - with a spalce\n",
    "        curText = re.sub(r'-', ' ', curText)\n",
    "        # removing all non alpha numeric char\n",
    "        curText = re.sub(r'[^a-z0-9 ]+', '', curText)\n",
    "        # removing \"...\" (multiple periods in a row)\n",
    "        curText = re.sub(r'([.])\\1+', '', curText)\n",
    "        # stems the text\n",
    "        curText = stemmer.stem(curText)\n",
    "        # removing multiple spaces in a row\n",
    "        curText = re.sub(r'(\\s\\s)+', ' ', curText)\n",
    "        # replaces the text\n",
    "        df.at[index, 'discourse_text'] = curText\n",
    "\n",
    "\n",
    "cleanText(train)\n",
    "\n",
    "print(\"Cleaned Train Dataset\")"
   ]
  },
  {
   "cell_type": "markdown",
   "metadata": {},
   "source": [
    "Vectorizes the cleaned text"
   ]
  },
  {
   "cell_type": "code",
   "execution_count": 206,
   "metadata": {},
   "outputs": [
    {
     "name": "stdout",
     "output_type": "stream",
     "text": [
      "Feature Counts:  9676 \n",
      "\n",
      "\n"
     ]
    }
   ],
   "source": [
    "# Vectorized strings\n",
    "countVec = CountVectorizer(\n",
    "    ngram_range=(1,2),\n",
    "    min_df=15\n",
    ")\n",
    "\n",
    "# Fits the vectorized with train data\n",
    "train_vectors = countVec.fit_transform(train['discourse_text'])\n",
    "\n",
    "# Gets a list of all the words in the vector\n",
    "vector_features = countVec.get_feature_names_out()\n",
    "#print(\"Vector features: \", vector_features)  # Prints all the words fit intoz the in the vectorizer\n",
    "print(\"Feature Counts: \", len(vector_features), \"\\n\\n\")  # Prints the amount of words in the vectorizer\n",
    "# Converts the vectorized data matrix to array\n",
    "train_vec_arr = train_vectors.toarray()\n",
    "# Puts the vectorized data into the dataframe\n",
    "train_vec_dataframe = pd.DataFrame(data=train_vec_arr, columns=vector_features)\n"
   ]
  },
  {
   "cell_type": "markdown",
   "metadata": {},
   "source": [
    "One Hot Encondes the discourse type row"
   ]
  },
  {
   "cell_type": "code",
   "execution_count": 207,
   "metadata": {},
   "outputs": [
    {
     "name": "stdout",
     "output_type": "stream",
     "text": [
      "One hot enconded train dataset\n"
     ]
    }
   ],
   "source": [
    "# One hot encodes discourse type\n",
    "OH_encoder = OneHotEncoder(handle_unknown='ignore', sparse=False)\n",
    "X_categorical_OneHot_train = pd.DataFrame(OH_encoder.fit_transform(train[['discourse_type']]))\n",
    "\n",
    "print(\"One hot enconded train dataset\")"
   ]
  },
  {
   "cell_type": "markdown",
   "metadata": {},
   "source": [
    "Combines the Dataset"
   ]
  },
  {
   "cell_type": "code",
   "execution_count": 223,
   "metadata": {},
   "outputs": [
    {
     "name": "stdout",
     "output_type": "stream",
     "text": [
      "NAN count:  0\n",
      "NAN count:  0\n",
      "Fully Combined the Train dataset\n"
     ]
    }
   ],
   "source": [
    "def combineDataFrame(dfOg, restDfs):\n",
    "    df = dfOg.copy()\n",
    "    # drops the text column as it has been vectorized and type since it's been one hot encoded\n",
    "    df.drop(['discourse_text', 'discourse_type'], inplace=True, axis=1)\n",
    "    #resets index to make concat work\n",
    "    df.reset_index(drop=True, inplace=True)\n",
    "    for curDf in restDfs:\n",
    "        #resets index to make concat work\n",
    "        curDf.reset_index(drop=True, inplace=True)\n",
    "        df = pd.concat([df, curDf], axis=1)\n",
    "\n",
    "    return df\n",
    "\n",
    "\n",
    "\n",
    "# Gets the combined and fully cleaned model\n",
    "trainFullyCombined = combineDataFrame(train, [X_categorical_OneHot_train, train_vec_dataframe])\n",
    "\n",
    "print(\"Fully Combined the Train dataset\")"
   ]
  },
  {
   "cell_type": "markdown",
   "metadata": {},
   "source": [
    "Train Test split to make Validation set"
   ]
  },
  {
   "cell_type": "code",
   "execution_count": 224,
   "metadata": {},
   "outputs": [
    {
     "name": "stdout",
     "output_type": "stream",
     "text": [
      "Split into train and validation\n"
     ]
    }
   ],
   "source": [
    "#Gets the y value\n",
    "yFinished = trainFullyCombined['discourse_effectiveness']\n",
    "#drops the y value\n",
    "trainFullyCombined.drop('discourse_effectiveness', axis=1, inplace=True)\n",
    "\n",
    "XTrain, XValid, yTrain, yValid = train_test_split(trainFullyCombined, yFinished, train_size=0.8, test_size=0.2, shuffle=True, random_state=1) \n",
    "print(\"Split into train and validation\")"
   ]
  },
  {
   "cell_type": "raw",
   "metadata": {},
   "source": [
    "Performs Oversampling on Train dataset"
   ]
  },
  {
   "cell_type": "code",
   "execution_count": 225,
   "metadata": {},
   "outputs": [
    {
     "name": "stderr",
     "output_type": "stream",
     "text": [
      "C:\\Users\\jesse\\AppData\\Roaming\\Python\\Python38\\site-packages\\sklearn\\utils\\validation.py:1858: FutureWarning: Feature names only support names that are all strings. Got feature names with dtypes: ['int', 'str']. An error will be raised in 1.2.\n",
      "  warnings.warn(\n"
     ]
    },
    {
     "data": {
      "text/plain": [
       "<matplotlib.axes._subplots.AxesSubplot at 0x22e708035b0>"
      ]
     },
     "execution_count": 225,
     "metadata": {},
     "output_type": "execute_result"
    },
    {
     "data": {
      "image/png": "[encoded data removed]",
      "text/plain": [
       "<Figure size 432x288 with 1 Axes>"
      ]
     },
     "metadata": {},
     "output_type": "display_data"
    }
   ],
   "source": [
    "\n",
    "\n",
    "# Performs oversampling with a 1-1 ratio\n",
    "ros = RandomOverSampler(sampling_strategy='auto',random_state=0)\n",
    "\n",
    "xResampled, yResampled = ros.fit_resample(XTrain, yTrain)\n",
    "\n",
    "trainSetFinished = xResampled\n",
    "trainSetFinished['discourse_effectiveness'] = yResampled\n",
    "\n",
    "validSetFinished = XValid\n",
    "validSetFinished['discourse_effectiveness'] = yValid\n",
    "\n",
    "trainSetFinished['discourse_effectiveness'].value_counts().plot.pie(autopct='%.2f')"
   ]
  },
  {
   "cell_type": "code",
   "execution_count": 226,
   "metadata": {},
   "outputs": [
    {
     "name": "stdout",
     "output_type": "stream",
     "text": [
      "   StringLength  WordCount  SentenceCount  upperCasePerc  \\\n",
      "0           108         17              2           50.0   \n",
      "1           457         80              2           50.0   \n",
      "2            49          8              2           50.0   \n",
      "3           106         19              2           50.0   \n",
      "4           101         18              2           50.0   \n",
      "\n",
      "   averageSentenceWords    0    1    2    3    4  ...  youre  yours  yourself  \\\n",
      "0                   8.5  1.0  0.0  0.0  0.0  0.0  ...      0      0         0   \n",
      "1                  40.0  0.0  1.0  0.0  0.0  0.0  ...      0      0         0   \n",
      "2                   4.0  1.0  0.0  0.0  0.0  0.0  ...      0      0         0   \n",
      "3                   9.5  1.0  0.0  0.0  0.0  0.0  ...      0      0         0   \n",
      "4                   9.0  1.0  0.0  0.0  0.0  0.0  ...      0      0         0   \n",
      "\n",
      "   youth  zone  zones  zones around  zygomatic  zygomatic major  \\\n",
      "0      0     0      0             0          0                0   \n",
      "1      0     0      0             0          0                0   \n",
      "2      0     0      0             0          0                0   \n",
      "3      0     0      0             0          0                0   \n",
      "4      0     0      0             0          0                0   \n",
      "\n",
      "   discourse_effectiveness  \n",
      "0                        1  \n",
      "1                        2  \n",
      "2                        1  \n",
      "3                        2  \n",
      "4                        1  \n",
      "\n",
      "[5 rows x 9689 columns]\n",
      "       StringLength  WordCount  SentenceCount  upperCasePerc  \\\n",
      "1246            435         72              2           50.0   \n",
      "11206           501         85              2           50.0   \n",
      "33251           666        109              2           50.0   \n",
      "757              55         10              2           50.0   \n",
      "13268          1333        243              2           50.0   \n",
      "\n",
      "       averageSentenceWords    0    1    2    3    4  ...  youre  yours  \\\n",
      "1246                   36.0  0.0  0.0  0.0  0.0  1.0  ...      0      0   \n",
      "11206                  42.5  0.0  0.0  0.0  1.0  0.0  ...      0      0   \n",
      "33251                  54.5  0.0  0.0  0.0  1.0  0.0  ...      0      0   \n",
      "757                     5.0  1.0  0.0  0.0  0.0  0.0  ...      0      0   \n",
      "13268                 121.5  0.0  0.0  0.0  1.0  0.0  ...      0      0   \n",
      "\n",
      "       yourself  youth  zone  zones  zones around  zygomatic  zygomatic major  \\\n",
      "1246          0      0     0      0             0          0                0   \n",
      "11206         0      0     0      0             0          0                0   \n",
      "33251         0      0     0      0             0          0                0   \n",
      "757           0      0     0      0             0          0                0   \n",
      "13268         0      0     0      0             0          0                0   \n",
      "\n",
      "       discourse_effectiveness  \n",
      "1246                         1  \n",
      "11206                        2  \n",
      "33251                        2  \n",
      "757                          1  \n",
      "13268                        0  \n",
      "\n",
      "[5 rows x 9689 columns]\n"
     ]
    }
   ],
   "source": [
    "print(trainSetFinished.head())\n",
    "trainSetFinished.to_csv('./Dataset/trainFullyProcessed.csv', index=False)\n",
    "\n",
    "print(validSetFinished.head())\n",
    "validSetFinished.to_csv('./Dataset/validFullyProcessed.csv', index=False)"
   ]
  },
  {
   "cell_type": "code",
   "execution_count": null,
   "metadata": {},
   "outputs": [],
   "source": []
  }
 ],
 "metadata": {
  "kernelspec": {
   "display_name": "Python 3",
   "language": "python",
   "name": "python3"
  },
  "language_info": {
   "codemirror_mode": {
    "name": "ipython",
    "version": 3
   },
   "file_extension": ".py",
   "mimetype": "text/x-python",
   "name": "python",
   "nbconvert_exporter": "python",
   "pygments_lexer": "ipython3",
   "version": "3.8.3"
  }
 },
 "nbformat": 4,
 "nbformat_minor": 4
}
